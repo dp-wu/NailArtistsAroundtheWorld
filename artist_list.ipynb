{
 "cells": [
  {
   "metadata": {},
   "cell_type": "markdown",
   "source": "### Test environment, Create a folder to store result",
   "id": "7991e0b846998375"
  },
  {
   "metadata": {
    "ExecuteTime": {
     "end_time": "2025-08-29T20:45:12.609975Z",
     "start_time": "2025-08-29T20:45:12.605912Z"
    }
   },
   "cell_type": "code",
   "source": [
    "import os, pathlib\n",
    "from dotenv import load_dotenv\n",
    "\n",
    "pathlib.Path(\"Out\").mkdir(exist_ok=True)\n",
    "print(\"Out/ ready.\")\n",
    "\n",
    "load_dotenv()\n",
    "print(\"Env loaded. API_KEY present? \", bool(os.getenv(\"API_KEY\")))\n",
    "print(\"Kernel OK.\")"
   ],
   "id": "72ae3f0dce2be70",
   "outputs": [
    {
     "name": "stdout",
     "output_type": "stream",
     "text": [
      "Out/ ready.\n",
      "Env loaded. API_KEY present?  True\n",
      "Kernel OK.\n"
     ]
    }
   ],
   "execution_count": 7
  },
  {
   "metadata": {},
   "cell_type": "markdown",
   "source": "### Test API Key and Search Engine ID",
   "id": "19e5f17c64a7a99b"
  },
  {
   "metadata": {
    "ExecuteTime": {
     "end_time": "2025-08-29T20:44:19.458290Z",
     "start_time": "2025-08-29T20:44:19.456557Z"
    }
   },
   "cell_type": "code",
   "source": [
    "API_KEY = os.getenv(\"API_KEY\")\n",
    "CX_ID = os.getenv(\"CX_ID\")\n",
    "GOOGLE_API = 'https://www.googleapis.com/customsearch/v1'\n",
    "assert API_KEY and CX_ID, \"Set API_KEY and CX_ID in your .env file\"\n",
    "print(\"OK, keys loaded.\")"
   ],
   "id": "bc9be4d460fbd877",
   "outputs": [
    {
     "name": "stdout",
     "output_type": "stream",
     "text": [
      "OK, keys loaded.\n"
     ]
    }
   ],
   "execution_count": 2
  },
  {
   "metadata": {},
   "cell_type": "markdown",
   "source": "### Setup Queries and Pages",
   "id": "576e866730399572"
  },
  {
   "metadata": {
    "ExecuteTime": {
     "end_time": "2025-08-29T20:44:20.757131Z",
     "start_time": "2025-08-29T20:44:20.751837Z"
    }
   },
   "cell_type": "code",
   "source": [
    "import json\n",
    "\n",
    "\n",
    "PAGES = os.getenv(\"PAGES\")\n",
    "FOLLOWER_MIN=os.getenv(\"FOLLOWER_MIN\")\n",
    "SITES = pathlib.Path(\"queries\") / \"sites.json\"\n",
    "CITIES = pathlib.Path(\"queries\") / \"cities.json\"\n",
    "VIEWS = pathlib.Path(\"queries\") / \"views.json\"\n",
    "PATTERNS = pathlib.Path(\"queries\") / \"patterns.json\"\n",
    "KEYWORDS = pathlib.Path(\"queries\") / \"keywords.json\"\n",
    "\n",
    "def create_queries() -> dict[str, list[str]]:\n",
    "    with open(SITES) as sites_file:\n",
    "        sites = json.load(sites_file)\n",
    "    with open(CITIES) as cities_file:\n",
    "        cities = json.load(cities_file)\n",
    "    with open(KEYWORDS) as keywords_file:\n",
    "        keywords = json.load(keywords_file)\n",
    "\n",
    "    q = dict()\n",
    "    for site in sites[\"social_media\"]:\n",
    "        # modify this part to get different filter combos\n",
    "        q[site] = [f\"{site} {keyword} {city}\" for keyword in keywords[\"nail\"] for city in cities[\"top_major_cities\"]]\n",
    "\n",
    "    return q\n",
    "\n",
    "QUERY = create_queries()"
   ],
   "id": "bfa12c98b77c61e6",
   "outputs": [],
   "execution_count": 3
  },
  {
   "metadata": {
    "ExecuteTime": {
     "end_time": "2025-08-29T20:44:23.207022Z",
     "start_time": "2025-08-29T20:44:23.204909Z"
    }
   },
   "cell_type": "code",
   "source": [
    "for i in QUERY:\n",
    "    print(i, QUERY[i])"
   ],
   "id": "16b9bcab0e3ae36f",
   "outputs": [
    {
     "name": "stdout",
     "output_type": "stream",
     "text": [
      "instagram.com ['instagram.com nail Tokyo', 'instagram.com nail Osaka', 'instagram.com nail Seoul', 'instagram.com nail Shanghai', 'instagram.com nail Hong Kong', 'instagram.com nail Singapore', 'instagram.com nail Bangkok', 'instagram.com nail New York', 'instagram.com nail Los Angeles', 'instagram.com nail Paris', 'instagram.com nail London', 'instagram.com nails Tokyo', 'instagram.com nails Osaka', 'instagram.com nails Seoul', 'instagram.com nails Shanghai', 'instagram.com nails Hong Kong', 'instagram.com nails Singapore', 'instagram.com nails Bangkok', 'instagram.com nails New York', 'instagram.com nails Los Angeles', 'instagram.com nails Paris', 'instagram.com nails London', 'instagram.com press-on nails Tokyo', 'instagram.com press-on nails Osaka', 'instagram.com press-on nails Seoul', 'instagram.com press-on nails Shanghai', 'instagram.com press-on nails Hong Kong', 'instagram.com press-on nails Singapore', 'instagram.com press-on nails Bangkok', 'instagram.com press-on nails New York', 'instagram.com press-on nails Los Angeles', 'instagram.com press-on nails Paris', 'instagram.com press-on nails London']\n"
     ]
    }
   ],
   "execution_count": 4
  },
  {
   "metadata": {},
   "cell_type": "markdown",
   "source": "### Parse url and gather data with patterns and queries",
   "id": "b7414cf3f072adb4"
  },
  {
   "metadata": {
    "ExecuteTime": {
     "end_time": "2025-08-29T20:44:31.958986Z",
     "start_time": "2025-08-29T20:44:31.108568Z"
    }
   },
   "cell_type": "code",
   "source": [
    "import re\n",
    "import requests\n",
    "from urllib.parse import urlparse\n",
    "\n",
    "def customized_search(query: str, start: int = 1):\n",
    "    r = requests.get(GOOGLE_API, params={\n",
    "        \"key\": API_KEY,\n",
    "        \"cx\": CX_ID,\n",
    "        \"q\": query,\n",
    "        \"start\": start\n",
    "    }, timeout=30)\n",
    "    r.raise_for_status()\n",
    "    return r.json()\n",
    "\n",
    "def gather_raw_data(query: dict[str, list[str]]) -> dict[str, list[str]]:\n",
    "    raw_data = dict()\n",
    "    for site, fil in query.items():\n",
    "        raw_data[site] = customized_search(fil).get(\"items\", [])\n",
    "    return raw_data\n",
    "\n",
    "\n",
    "print(gather_raw_data({'instagram.com': ['instagram.com nail Tokyo followers']}))"
   ],
   "id": "3227e4c7503447e5",
   "outputs": [
    {
     "name": "stdout",
     "output_type": "stream",
     "text": [
      "{'instagram.com': [{'kind': 'customsearch#result', 'title': 'NAILS BY MEI⁖ ˖ (@nailsbymei) • Instagram photos and videos', 'htmlTitle': '<b>NAILS</b> BY MEI⁖   ˖ (@<b>nailsbymei</b>) • <b>Instagram</b> photos and videos', 'link': 'https://www.instagram.com/nailsbymei/?hl=en', 'displayLink': 'www.instagram.com', 'snippet': '348K followers · 2.4K+ following · 8229 posts · @nailsbymei\\u200e: “\\u200e ... TOKYO ✨. Follow. suki_nailz. Nail salon East london. Follow. roho7nailz. Follow.', 'htmlSnippet': '348K <b>followers</b> · 2.4K+ following · 8229 posts · @nailsbymei\\u200e: “\\u200e ... <b>TOKYO</b> ✨. Follow. suki_nailz. <b>Nail</b> salon East london. Follow. roho7nailz. Follow.', 'formattedUrl': 'https://www.instagram.com/nailsbymei/?hl=en', 'htmlFormattedUrl': 'https://www.<b>instagram.com</b>/<b>nail</b>sbymei/?hl=en', 'pagemap': {'cse_thumbnail': [{'src': 'https://encrypted-tbn0.gstatic.com/images?q=tbn:ANd9GcQ9Dw7m8_hEcZaD8wFEkItN06W_E164vfhoFi58YLAKMY63PFUqNHrBSmYU&s', 'width': '201', 'height': '251'}], 'xfn': [{}], 'metatags': [{'og:image': 'https://scontent-iad3-1.cdninstagram.com/v/t51.2885-19/466091662_573269091751817_737565374677171954_n.jpg?stp=dst-jpg_s100x100_tt6&_nc_cat=108&ccb=7-5&_nc_sid=bf7eb4&efg=eyJ2ZW5jb2RlX3RhZyI6InByb2ZpbGVfcGljLnd3dy4xMDgwLkMzIn0%3D&_nc_ohc=ZisLmOfiq_8Q7kNvwEqwge7&_nc_oc=AdkaYLETK-A-9Ob0E-eR9guon4akvATyTE8ZRg0qEHfdwY8woixLIzVbMthA-3cYmt0&_nc_zt=24&_nc_ht=scontent-iad3-1.cdninstagram.com&oh=00_AfWGTZfCVXNCqMF3uqq3L8sunANeSB9HDP49wYjDbDO3Fg&oe=68B79CA6', 'theme-color': '#FFFFFF', 'og:type': 'profile', 'al:ios:app_name': 'Instagram', 'og:title': '𝙉𝘼𝙄𝙇𝙎 𝘽𝙔 𝙈𝙀𝙄⁖✦ ˖ (@nailsbymei) • Instagram photos and videos', 'application-title': 'Instagram', 'al:android:package': 'com.instagram.android', 'bingbot': 'noarchive', 'al:ios:url': 'instagram://user?username=nailsbymei', 'color-scheme': 'light', 'og:description': '348K Followers, 2,447 Following, 8,229 Posts - See Instagram photos and videos from 𝙉𝘼𝙄𝙇𝙎 𝘽𝙔 𝙈𝙀𝙄⁖✦ ˖ (@nailsbymei)', 'al:ios:app_store_id': '389801252', 'al:android:url': 'https://instagram.com/_u/nailsbymei/', 'apple-mobile-web-app-status-bar-style': 'default', 'viewport': 'width=device-width, initial-scale=1, minimum-scale=1, maximum-scale=1, viewport-fit=cover', 'mobile-web-app-capable': 'yes', 'og:url': 'https://www.instagram.com/nailsbymei/', 'al:android:app_name': 'Instagram'}], 'cse_image': [{'src': 'https://lookaside.instagram.com/seo/google_widget/crawler/?media_id=3662210234240967670'}]}}, {'kind': 'customsearch#result', 'title': 'Tokyo Nails (@tokyonails.chicago) · Chicago, IL', 'htmlTitle': '<b>Tokyo Nails</b> (@<b>tokyonails</b>.chicago) · Chicago, IL', 'link': 'https://www.instagram.com/tokyonails.chicago/?hl=en', 'displayLink': 'www.instagram.com', 'snippet': '16K followers · 1.1K+ posts · Editorial & Design Salon Specializing in Japanese Gel/GelX Hand Painted Art By Appointment Only Acrylic #japanesegel 215 N\\xa0...', 'htmlSnippet': '16K <b>followers</b> · 1.1K+ posts · Editorial &amp; Design Salon Specializing in Japanese Gel/GelX Hand Painted Art By Appointment Only Acrylic #japanesegel 215 N&nbsp;...', 'formattedUrl': 'https://www.instagram.com/tokyonails.chicago/?hl=en', 'htmlFormattedUrl': 'https://www.<b>instagram.com</b>/<b>tokyonail</b>s.chicago/?hl=en', 'pagemap': {'cse_thumbnail': [{'src': 'https://encrypted-tbn0.gstatic.com/images?q=tbn:ANd9GcRUfJ8TLL7IqTbcNWBPQYj59UpC6Xv9VFTf_NK3cMP45HVRd9ZxWXNRXcCp&s', 'width': '194', 'height': '259'}], 'xfn': [{}], 'metatags': [{'og:image': 'https://scontent-iad3-2.cdninstagram.com/v/t51.2885-19/82168292_568732880496376_1075909008662986752_n.jpg?stp=dst-jpg_s100x100_tt6&_nc_cat=111&ccb=7-5&_nc_sid=bf7eb4&efg=eyJ2ZW5jb2RlX3RhZyI6InByb2ZpbGVfcGljLnd3dy4zNjcuQzMifQ%3D%3D&_nc_ohc=Ko6lltzRl_0Q7kNvwGueCfv&_nc_oc=AdnvoMSEtNqf1nzNtqaQrjTkFyTtyRfqqkw_5P2yrIWFxVhXLFbBMXa7CWAorVVuiKc&_nc_zt=24&_nc_ht=scontent-iad3-2.cdninstagram.com&oh=00_AfUjL8aQcKy3b9LrOdajZ8rRZ0VdA5pY8CVbvt5SFlP0kw&oe=68B75907', 'theme-color': '#FFFFFF', 'og:type': 'profile', 'al:ios:app_name': 'Instagram', 'og:title': '𝐓𝐨𝐤𝐲𝐨 𝐍𝐚𝐢𝐥𝐬 (@tokyonails.chicago) • Instagram photos and videos', 'application-title': 'Instagram', 'al:android:package': 'com.instagram.android', 'bingbot': 'noarchive', 'al:ios:url': 'instagram://user?username=tokyonails.chicago', 'color-scheme': 'light', 'og:description': '16K Followers, 4,039 Following, 1,108 Posts - See Instagram photos and videos from 𝐓𝐨𝐤𝐲𝐨 𝐍𝐚𝐢𝐥𝐬 (@tokyonails.chicago)', 'al:ios:app_store_id': '389801252', 'al:android:url': 'https://instagram.com/_u/tokyonails.chicago/', 'apple-mobile-web-app-status-bar-style': 'default', 'viewport': 'width=device-width, initial-scale=1, minimum-scale=1, maximum-scale=1, viewport-fit=cover', 'mobile-web-app-capable': 'yes', 'og:url': 'https://www.instagram.com/tokyonails.chicago/', 'al:android:app_name': 'Instagram'}], 'cse_image': [{'src': 'https://lookaside.instagram.com/seo/google_widget/crawler/?media_id=3705128911034679699'}]}}, {'kind': 'customsearch#result', 'title': 'SIMONE BILES (@simonebiles) • Instagram photos and videos', 'htmlTitle': 'SIMONE BILES (@simonebiles) • <b>Instagram</b> photos and videos', 'link': 'https://www.instagram.com/simonebiles/?hl=en', 'displayLink': 'www.instagram.com', 'snippet': \"12M Followers, 291 Following, 2987 Posts - SIMONE BILES (@simonebiles) on ... nails's profile picture. nails. madrid's profile picture. madrid. bahamas's\\xa0...\", 'htmlSnippet': '12M <b>Followers</b>, 291 Following, 2987 Posts - SIMONE BILES (@simonebiles) on ... <b>nails&#39;s</b> profile picture. <b>nails</b>. madrid&#39;s profile picture. madrid. bahamas&#39;s&nbsp;...', 'formattedUrl': 'https://www.instagram.com/simonebiles/?hl=en', 'htmlFormattedUrl': 'https://www.<b>instagram.com</b>/simonebiles/?hl=en', 'pagemap': {'cse_thumbnail': [{'src': 'https://encrypted-tbn0.gstatic.com/images?q=tbn:ANd9GcQ33mQpP6EpW-wlT8HElgOFE2AqcFNUFZDWmCSDJ6kdkQkZGKnzJqGhCrI&s', 'width': '201', 'height': '251'}], 'metatags': [{'og:image': 'https://scontent-iad3-1.cdninstagram.com/v/t51.82787-19/520902237_18520458844061188_7235611543979472377_n.jpg?stp=dst-jpg_s100x100_tt6&_nc_cat=1&ccb=7-5&_nc_sid=bf7eb4&efg=eyJ2ZW5jb2RlX3RhZyI6InByb2ZpbGVfcGljLnd3dy4xMDgwLkMzIn0%3D&_nc_ohc=7Hf2-iiq_hAQ7kNvwF-UrwE&_nc_oc=Admli_ZYX0T-erXAdVyBXcOn30pf0DwJFI5Dn_tootbdt_w26Z7BxZYj6d5VzES27BA&_nc_zt=24&_nc_ht=scontent-iad3-1.cdninstagram.com&_nc_gid=De3n0rdMzCxwosqvr1RBYA&oh=00_AfVpc337lGrBwPLhfm-AkW8aL_7BcwdqfCn3tqL9LXxnDg&oe=68B7B017', 'theme-color': '#FFFFFF', 'og:type': 'profile', 'al:ios:app_name': 'Instagram', 'og:title': 'SIMONE BILES (@simonebiles) • Instagram photos and videos', 'application-title': 'Instagram', 'al:android:package': 'com.instagram.android', 'bingbot': 'noarchive', 'al:ios:url': 'instagram://user?username=simonebiles', 'color-scheme': 'light', 'og:description': '12M Followers, 291 Following, 2,987 Posts - See Instagram photos and videos from SIMONE BILES (@simonebiles)', 'al:ios:app_store_id': '389801252', 'al:android:url': 'https://instagram.com/_u/simonebiles/', 'apple-mobile-web-app-status-bar-style': 'default', 'viewport': 'width=device-width, initial-scale=1, minimum-scale=1, maximum-scale=1, viewport-fit=cover', 'mobile-web-app-capable': 'yes', 'og:url': 'https://www.instagram.com/simonebiles/', 'al:android:app_name': 'Instagram'}], 'cse_image': [{'src': 'https://lookaside.instagram.com/seo/google_widget/crawler/?media_id=3086681077591018788'}]}}, {'kind': 'customsearch#result', 'title': 'Khloé Kardashian (@khloekardashian) • Instagram photos and videos', 'htmlTitle': 'Khloé Kardashian (@khloekardashian) • <b>Instagram</b> photos and videos', 'link': 'https://www.instagram.com/khloekardashian/?hl=en', 'displayLink': 'www.instagram.com', 'snippet': \"302M followers · 142 following · 4719 posts · @khloekardashian: “Buy Khloud ... Nails's profile picture. Nails. Photo by\\xa0...\", 'htmlSnippet': '302M <b>followers</b> · 142 following · 4719 posts · @khloekardashian: “Buy Khloud ... <b>Nails&#39;s</b> profile picture. <b>Nails</b>. Photo by&nbsp;...', 'formattedUrl': 'https://www.instagram.com/khloekardashian/?hl=en', 'htmlFormattedUrl': 'https://www.<b>instagram.com</b>/khloekardashian/?hl=en', 'pagemap': {'cse_thumbnail': [{'src': 'https://encrypted-tbn0.gstatic.com/images?q=tbn:ANd9GcRpU-J7qp_jV4ETTr_KdvxbYWZeoZZSFXINTj0VsUmGe2Mmm5mzl9QteVU&s', 'width': '194', 'height': '259'}], 'metatags': [{'og:image': 'https://scontent-iad3-1.cdninstagram.com/v/t51.2885-19/485211556_4182364548659006_6823750987819054141_n.jpg?stp=dst-jpg_s100x100_tt6&_nc_cat=1&ccb=7-5&_nc_sid=bf7eb4&efg=eyJ2ZW5jb2RlX3RhZyI6InByb2ZpbGVfcGljLnd3dy4xMDI1LkMzIn0%3D&_nc_ohc=GPyb_itVu54Q7kNvwFZg8TL&_nc_oc=AdnH_QOJQImtix51uFp64u8HKU1fiy0dbqgPdAWmGHRMORIe71T3-0lwZY8Gj00A9TE&_nc_zt=24&_nc_ht=scontent-iad3-1.cdninstagram.com&oh=00_AfWGouasP6i8im0tZibcQV7gtG32YlGWDsYSYvK66ib4jw&oe=68B7D5AF', 'theme-color': '#FFFFFF', 'og:type': 'profile', 'al:ios:app_name': 'Instagram', 'og:title': 'Khloé Kardashian (@khloekardashian) • Instagram photos and videos', 'application-title': 'Instagram', 'al:android:package': 'com.instagram.android', 'bingbot': 'noarchive', 'al:ios:url': 'instagram://user?username=khloekardashian', 'color-scheme': 'light', 'og:description': '302M Followers, 142 Following, 4,719 Posts - See Instagram photos and videos from Khloé Kardashian (@khloekardashian)', 'al:ios:app_store_id': '389801252', 'al:android:url': 'https://instagram.com/_u/khloekardashian/', 'apple-mobile-web-app-status-bar-style': 'default', 'viewport': 'width=device-width, initial-scale=1, minimum-scale=1, maximum-scale=1, viewport-fit=cover', 'mobile-web-app-capable': 'yes', 'og:url': 'https://www.instagram.com/khloekardashian/', 'al:android:app_name': 'Instagram'}], 'cse_image': [{'src': 'https://lookaside.instagram.com/seo/google_widget/crawler/?media_id=3708593121991500542'}]}}, {'kind': 'customsearch#result', 'title': 'SUCRE (@nail.sucre) • Instagram photos and videos', 'htmlTitle': 'SUCRE (@<b>nail</b>.sucre) • <b>Instagram</b> photos and videos', 'link': 'https://www.instagram.com/nail.sucre/?hl=en', 'displayLink': 'www.instagram.com', 'snippet': '94K followers · 22 following · 10016 posts · @nail.sucre: “新宿区新宿3丁目3-9新宿伍名館204 TOKYO.SHINJUKU @nail.sucreamer @sucre.newyork sister store No\\xa0...', 'htmlSnippet': '94K <b>followers</b> · 22 following · 10016 posts · @<b>nail</b>.sucre: “新宿区新宿3丁目3-9新宿伍名館204 <b>TOKYO</b>.SHINJUKU @<b>nail</b>.sucreamer @sucre.newyork sister store   No&nbsp;...', 'formattedUrl': 'https://www.instagram.com/nail.sucre/?hl=en', 'htmlFormattedUrl': 'https://www.<b>instagram.com</b>/<b>nail</b>.sucre/?hl=en', 'pagemap': {'cse_thumbnail': [{'src': 'https://encrypted-tbn0.gstatic.com/images?q=tbn:ANd9GcTwrXlaY5oPh3WBRUJogFy95_87Q7k44h6LCXyAc49OVCaosTtcoToQTIun&s', 'width': '220', 'height': '229'}], 'xfn': [{}], 'metatags': [{'og:image': 'https://scontent-iad3-2.cdninstagram.com/v/t51.2885-19/16110400_1221873181241009_2292786501907382272_a.jpg?stp=dst-jpg_s100x100_tt6&_nc_cat=100&ccb=7-5&_nc_sid=bf7eb4&efg=eyJ2ZW5jb2RlX3RhZyI6InByb2ZpbGVfcGljLnd3dy44NzMuQzMifQ%3D%3D&_nc_ohc=ZRC-2UMaS0kQ7kNvwHXRjRN&_nc_oc=Adlr5xD8FJpLtgWLXMXuAlt6EXa-XUdhdHYNAjgsTgO1brc6jhlAS6J44gMMx3-PHd0&_nc_zt=24&_nc_ht=scontent-iad3-2.cdninstagram.com&oh=00_AfWi6jAn03bk6fuotaWQVIsDw2sQtt6swUizBw8wC4rXrg&oe=68B7C317', 'theme-color': '#FFFFFF', 'og:type': 'profile', 'al:ios:app_name': 'Instagram', 'og:title': 'SUCRE (@nail.sucre) • Instagram photos and videos', 'application-title': 'Instagram', 'al:android:package': 'com.instagram.android', 'bingbot': 'noarchive', 'al:ios:url': 'instagram://user?username=nail.sucre', 'color-scheme': 'light', 'og:description': '94K Followers, 22 Following, 10K Posts - See Instagram photos and videos from SUCRE (@nail.sucre)', 'al:ios:app_store_id': '389801252', 'al:android:url': 'https://instagram.com/_u/nail.sucre/', 'apple-mobile-web-app-status-bar-style': 'default', 'viewport': 'width=device-width, initial-scale=1, minimum-scale=1, maximum-scale=1, viewport-fit=cover', 'mobile-web-app-capable': 'yes', 'og:url': 'https://www.instagram.com/nail.sucre/', 'al:android:app_name': 'Instagram'}], 'cse_image': [{'src': 'https://lookaside.instagram.com/seo/google_widget/crawler/?media_id=3533070480758301179'}]}}, {'kind': 'customsearch#result', 'title': 'Sam is Home | Hong Kong (@samishome) • Instagram photos and ...', 'htmlTitle': 'Sam is Home | Hong Kong (@samishome) • <b>Instagram</b> photos and ...', 'link': 'https://www.instagram.com/samishome/?hl=en', 'displayLink': 'www.instagram.com', 'snippet': \"305K followers · 286 following · 2168 posts · @samishome: “Sam ... Sam. Follow. tokyoweekender's profile picture. tokyoweekender. Tokyo Weekender.\", 'htmlSnippet': '305K <b>followers</b> · 286 following · 2168 posts · @samishome: “Sam ... Sam. Follow. <b>tokyoweekender&#39;s</b> profile picture. <b>tokyoweekender</b>. <b>Tokyo</b> Weekender.', 'formattedUrl': 'https://www.instagram.com/samishome/?hl=en', 'htmlFormattedUrl': 'https://www.<b>instagram.com</b>/samishome/?hl=en', 'pagemap': {'cse_thumbnail': [{'src': 'https://encrypted-tbn0.gstatic.com/images?q=tbn:ANd9GcTA09_AqJ5U8_0PVW4Zr03HqdQTDPzBLJTDd_f40S5KSm9ByyIUnsPMTR0&s', 'width': '168', 'height': '299'}], 'xfn': [{}], 'metatags': [{'og:image': 'https://scontent-iad3-1.cdninstagram.com/v/t51.2885-19/89644240_203991567580497_7969992720368271360_n.jpg?stp=dst-jpg_s100x100_tt6&_nc_cat=110&ccb=7-5&_nc_sid=bf7eb4&efg=eyJ2ZW5jb2RlX3RhZyI6InByb2ZpbGVfcGljLnd3dy4xMDgwLkMzIn0%3D&_nc_ohc=_p6OSuKgUHwQ7kNvwFUBuXH&_nc_oc=AdmZfzIXcOiXqRipEoWgyYy151ulCcyNTfb_2VPm0ymgmXO3qDU-61v67Ikpad3wfHA&_nc_zt=24&_nc_ht=scontent-iad3-1.cdninstagram.com&oh=00_AfUpwcCV4CGXMGuGTIwQMPK5cXPBiVczTDFxVjFHrVKtbw&oe=68B79F2D', 'theme-color': '#FFFFFF', 'og:type': 'profile', 'al:ios:app_name': 'Instagram', 'og:title': 'Sam is Home | Hong Kong (@samishome) • Instagram photos and videos', 'application-title': 'Instagram', 'al:android:package': 'com.instagram.android', 'bingbot': 'noarchive', 'al:ios:url': 'instagram://user?username=samishome', 'color-scheme': 'light', 'og:description': '305K Followers, 286 Following, 2,168 Posts - See Instagram photos and videos from Sam is Home | Hong Kong (@samishome)', 'al:ios:app_store_id': '389801252', 'al:android:url': 'https://instagram.com/_u/samishome/', 'apple-mobile-web-app-status-bar-style': 'default', 'viewport': 'width=device-width, initial-scale=1, minimum-scale=1, maximum-scale=1, viewport-fit=cover', 'mobile-web-app-capable': 'yes', 'og:url': 'https://www.instagram.com/samishome/', 'al:android:app_name': 'Instagram'}], 'cse_image': [{'src': 'https://lookaside.instagram.com/seo/google_widget/crawler/?media_id=3703351661378054213'}]}}, {'kind': 'customsearch#result', 'title': 'Úrsula Corberó (@ursulolita) • Instagram photos and videos', 'htmlTitle': 'Úrsula Corberó (@ursulolita) • <b>Instagram</b> photos and videos', 'link': 'https://www.instagram.com/ursulolita/?hl=en', 'displayLink': 'www.instagram.com', 'snippet': '20M followers · 908 following · 405 posts · @ursulolita: “#TheDayOfTheJackal #Chacal ”', 'htmlSnippet': '20M <b>followers</b> · 908 following · 405 posts · @ursulolita: “#TheDayOfTheJackal #Chacal ”', 'formattedUrl': 'https://www.instagram.com/ursulolita/?hl=en', 'htmlFormattedUrl': 'https://www.<b>instagram.com</b>/ursulolita/?hl=en', 'pagemap': {'metatags': [{'og:image': 'https://scontent-iad3-1.cdninstagram.com/v/t51.75761-19/504191294_18520939873039468_363018190904898491_n.jpg?stp=dst-jpg_s100x100_tt6&_nc_cat=1&ccb=7-5&_nc_sid=bf7eb4&efg=eyJ2ZW5jb2RlX3RhZyI6InByb2ZpbGVfcGljLnd3dy4xMDgwLkMzIn0%3D&_nc_ohc=nVSUZXJXpF0Q7kNvwHEnu6n&_nc_oc=AdnHC61pIlvvDYADvxjN33Ua01cjIwLWJi1DtonBS8plL9tW2ASWg7VR2OxjvSHbf0M&_nc_zt=24&_nc_ht=scontent-iad3-1.cdninstagram.com&_nc_gid=bQWRd8ia4xMYkjInr9vWxg&oh=00_AfUNUQ5dVDUm4KYf_EfqC4jp2quGmgFCukoYmdEk_iLPsA&oe=68B7A2D7', 'theme-color': '#FFFFFF', 'og:type': 'profile', 'al:ios:app_name': 'Instagram', 'og:title': 'Úrsula Corberó (@ursulolita) • Instagram photos and videos', 'application-title': 'Instagram', 'al:android:package': 'com.instagram.android', 'bingbot': 'noarchive', 'al:ios:url': 'instagram://user?username=ursulolita', 'color-scheme': 'light', 'og:description': '20M Followers, 908 Following, 405 Posts - See Instagram photos and videos from Úrsula Corberó (@ursulolita)', 'al:ios:app_store_id': '389801252', 'al:android:url': 'https://instagram.com/_u/ursulolita/', 'apple-mobile-web-app-status-bar-style': 'default', 'viewport': 'width=device-width, initial-scale=1, minimum-scale=1, maximum-scale=1, viewport-fit=cover', 'mobile-web-app-capable': 'yes', 'og:url': 'https://www.instagram.com/ursulolita/', 'al:android:app_name': 'Instagram'}]}}, {'kind': 'customsearch#result', 'title': 'Rina Sawayama (@rinasonline) • Instagram photos and videos', 'htmlTitle': 'Rina Sawayama (@rinasonline) • <b>Instagram</b> photos and videos', 'link': 'https://www.instagram.com/rinasonline/?hl=en', 'displayLink': 'www.instagram.com', 'snippet': '1M followers · 25 following · 421 posts · @rinasonline: “ @godmodebeauty”', 'htmlSnippet': '1M <b>followers</b> · 25 following · 421 posts · @rinasonline: “       @godmodebeauty”', 'formattedUrl': 'https://www.instagram.com/rinasonline/?hl=en', 'htmlFormattedUrl': 'https://www.<b>instagram.com</b>/rinasonline/?hl=en', 'pagemap': {'xfn': [{}], 'metatags': [{'og:image': 'https://scontent-iad3-1.cdninstagram.com/v/t51.2885-19/449175953_1955575548225908_9100980894302773985_n.jpg?stp=dst-jpg_s100x100_tt6&_nc_cat=108&ccb=7-5&_nc_sid=bf7eb4&efg=eyJ2ZW5jb2RlX3RhZyI6InByb2ZpbGVfcGljLnd3dy4xMDgwLkMzIn0%3D&_nc_ohc=FAlHgv2S8UQQ7kNvwEa1R6q&_nc_oc=AdnjvKYdhGn3S2SuydvxurrBQYniNAngOeJJnKc4RAu8hyfZKkGu8_2URVYrFjf3MAg&_nc_zt=24&_nc_ht=scontent-iad3-1.cdninstagram.com&oh=00_AfXLnHylV2kb8cPcjmQXuFXwdnsBbFbekG1SgqpdZpAcBg&oe=68B7BD4A', 'theme-color': '#FFFFFF', 'og:type': 'profile', 'al:ios:app_name': 'Instagram', 'og:title': 'Rina Sawayama (@rinasonline) • Instagram photos and videos', 'application-title': 'Instagram', 'al:android:package': 'com.instagram.android', 'bingbot': 'noarchive', 'al:ios:url': 'instagram://user?username=rinasonline', 'color-scheme': 'light', 'og:description': '1M Followers, 25 Following, 421 Posts - See Instagram photos and videos from Rina Sawayama (@rinasonline)', 'al:ios:app_store_id': '389801252', 'al:android:url': 'https://instagram.com/_u/rinasonline/', 'apple-mobile-web-app-status-bar-style': 'default', 'viewport': 'width=device-width, initial-scale=1, minimum-scale=1, maximum-scale=1, viewport-fit=cover', 'mobile-web-app-capable': 'yes', 'og:url': 'https://www.instagram.com/rinasonline/', 'al:android:app_name': 'Instagram'}], 'cse_image': [{'src': 'https://scontent-iad3-1.cdninstagram.com/v/t51.2885-19/449175953_1955575548225908_9100980894302773985_n.jpg?stp=dst-jpg_s100x100_tt6&_nc_cat=108&ccb=7-5&_nc_sid=bf7eb4&efg=eyJ2ZW5jb2RlX3RhZyI6InByb2ZpbGVfcGljLnd3dy4xMDgwLkMzIn0%3D&_nc_ohc=FAlHgv2S8UQQ7kNvwEa1R6q&_nc_oc=AdnjvKYdhGn3S2SuydvxurrBQYniNAngOeJJnKc4RAu8hyfZKkGu8_2URVYrFjf3MAg&_nc_zt=24&_nc_ht=scontent-iad3-1.cdninstagram.com&oh=00_AfXLnHylV2kb8cPcjmQXuFXwdnsBbFbekG1SgqpdZpAcBg&oe=68B7BD4A'}]}}, {'kind': 'customsearch#result', 'title': 'Kim Kardashian (@kimkardashian) • Instagram photos and videos', 'htmlTitle': 'Kim Kardashian (@kimkardashian) • <b>Instagram</b> photos and videos', 'link': 'https://www.instagram.com/kimkardashian/', 'displayLink': 'www.instagram.com', 'snippet': '356M followers · 354 following · 6463 posts · @kimkardashian: “@SKIMS @SKKYPARTNERS”', 'htmlSnippet': '356M <b>followers</b> · 354 following · 6463 posts · @kimkardashian: “@SKIMS @SKKYPARTNERS”', 'formattedUrl': 'https://www.instagram.com/kimkardashian/', 'htmlFormattedUrl': 'https://www.<b>instagram.com</b>/kimkardashian/', 'pagemap': {'cse_thumbnail': [{'src': 'https://encrypted-tbn0.gstatic.com/images?q=tbn:ANd9GcRFnPMWqQSU201zZOdWZ-AeThvZI7ZRp7InZ8WqAq44wUqV1gzTGA29IXk&s', 'width': '201', 'height': '251'}], 'xfn': [{}], 'metatags': [{'og:image': 'https://scontent-iad3-1.cdninstagram.com/v/t51.2885-19/314397231_636674618202803_1672434101401302981_n.jpg?stp=dst-jpg_s100x100_tt6&_nc_cat=1&ccb=7-5&_nc_sid=bf7eb4&efg=eyJ2ZW5jb2RlX3RhZyI6InByb2ZpbGVfcGljLnd3dy4xMDI4LkMzIn0%3D&_nc_ohc=3UQeWFL5TLcQ7kNvwHZLdJh&_nc_oc=AdllUglNnWOpwyjvBIX3AXHfH2s_JiGWQq4H2D9hdHLF7Qt-PsheTkV4PBg88LevFk4&_nc_zt=24&_nc_ht=scontent-iad3-1.cdninstagram.com&oh=00_AfV0mcwoWom8Yu1L0zquL2DB16EVpUo-ldfgWj2kfHt4HQ&oe=68B7A4DE', 'theme-color': '#FFFFFF', 'og:type': 'profile', 'al:ios:app_name': 'Instagram', 'og:title': 'Kim Kardashian (@kimkardashian) • Instagram photos and videos', 'application-title': 'Instagram', 'al:android:package': 'com.instagram.android', 'bingbot': 'noarchive', 'al:ios:url': 'instagram://user?username=kimkardashian', 'color-scheme': 'light', 'og:description': '356M Followers, 354 Following, 6,463 Posts - See Instagram photos and videos from Kim Kardashian (@kimkardashian)', 'al:ios:app_store_id': '389801252', 'al:android:url': 'https://instagram.com/_u/kimkardashian/', 'apple-mobile-web-app-status-bar-style': 'default', 'viewport': 'width=device-width, initial-scale=1, minimum-scale=1, maximum-scale=1, viewport-fit=cover', 'mobile-web-app-capable': 'yes', 'og:url': 'https://www.instagram.com/kimkardashian/', 'al:android:app_name': 'Instagram'}], 'cse_image': [{'src': 'https://lookaside.instagram.com/seo/google_widget/crawler/?media_id=3702724085261152390'}]}}, {'kind': 'customsearch#result', 'title': 'Ilona Maher (@ilonamaher) • Instagram photos and videos', 'htmlTitle': 'Ilona Maher (@ilonamaher) • <b>Instagram</b> photos and videos', 'link': 'https://www.instagram.com/ilonamaher/?hl=en', 'displayLink': 'www.instagram.com', 'snippet': \"5M followers · 2.8K+ following · 2692 posts · @ilonamaher: “OLYMPIC MEDALIST ... Tokyo's profile picture. Tokyo. 's profile picture.. USA 7s's profile\\xa0...\", 'htmlSnippet': '5M <b>followers</b> · 2.8K+ following · 2692 posts · @ilonamaher: “OLYMPIC MEDALIST ... <b>Tokyo&#39;s</b> profile picture. <b>Tokyo</b>. &#39;s profile picture.. USA 7s&#39;s profile&nbsp;...', 'formattedUrl': 'https://www.instagram.com/ilonamaher/?hl=en', 'htmlFormattedUrl': 'https://www.<b>instagram.com</b>/ilonamaher/?hl=en', 'pagemap': {'cse_thumbnail': [{'src': 'https://encrypted-tbn0.gstatic.com/images?q=tbn:ANd9GcQCI59mkMNAKW8pvnXYyXRGLlKB0GwbFMZav7LFdqLyArFC3qUibp6olqo&s', 'width': '201', 'height': '251'}], 'metatags': [{'og:image': 'https://scontent-iad3-2.cdninstagram.com/v/t51.82787-19/540099466_18523134979044965_5194484999343802784_n.jpg?stp=dst-jpg_s100x100_tt6&_nc_cat=100&ccb=7-5&_nc_sid=669407&efg=eyJ2ZW5jb2RlX3RhZyI6InByb2ZpbGVfcGljLnd3dy43MzcuQzMifQ%3D%3D&_nc_ohc=6mwcgM9Py5wQ7kNvwHFhw2f&_nc_oc=AdmL8FkifTzWZBCSFJ3XrheOPVO7K_GMaH5xwvjsTffw94SgEzFu3n12gvffhYMdOQA&_nc_zt=24&_nc_ht=scontent-iad3-2.cdninstagram.com&_nc_gid=pfNE1iS4cf-4KTBXyUNyEg&oh=00_AfXa6VP6wkJqTZ5q_5bKbJQ-ZojLkQKYG3dSyj2mraKIhg&oe=68B75C76', 'theme-color': '#FFFFFF', 'og:type': 'profile', 'al:ios:app_name': 'Instagram', 'og:title': 'Ilona Maher (@ilonamaher) • Instagram photos and videos', 'application-title': 'Instagram', 'al:android:package': 'com.instagram.android', 'bingbot': 'noarchive', 'al:ios:url': 'instagram://user?username=ilonamaher', 'color-scheme': 'light', 'og:description': '5M Followers, 2,795 Following, 2,692 Posts - See Instagram photos and videos from Ilona Maher (@ilonamaher)', 'al:ios:app_store_id': '389801252', 'al:android:url': 'https://instagram.com/_u/ilonamaher/', 'apple-mobile-web-app-status-bar-style': 'default', 'viewport': 'width=device-width, initial-scale=1, minimum-scale=1, maximum-scale=1, viewport-fit=cover', 'mobile-web-app-capable': 'yes', 'og:url': 'https://www.instagram.com/ilonamaher/', 'al:android:app_name': 'Instagram'}], 'cse_image': [{'src': 'https://lookaside.instagram.com/seo/google_widget/crawler/?media_id=3444719645331131897'}]}}]}\n"
     ]
    }
   ],
   "execution_count": 5
  },
  {
   "metadata": {
    "ExecuteTime": {
     "end_time": "2025-08-29T20:46:37.873443Z",
     "start_time": "2025-08-29T20:46:37.323608Z"
    }
   },
   "cell_type": "code",
   "source": [
    "def parse_ig_url(url: str) -> tuple[str, str]:\n",
    "    \"\"\"\n",
    "    Given a URL, return its username.\n",
    "    :param url:\n",
    "    :return: account web address\n",
    "    \"\"\"\n",
    "    p = urlparse(url)\n",
    "    url_segments = p.path.split(\"/\")\n",
    "    if url_segments[0].lower() not in {\"p\", \"reels\", \"stories\", \"explore\", \"tv\", \"channels\", \"direct\"}:\n",
    "        return url, \"a\"\n",
    "    elif url_segments[0].lower() == \"p\":\n",
    "        return url, \"p\"\n",
    "    return \"none\", \"none\"\n",
    "\n",
    "\n",
    "def parse_nums(m):\n",
    "    if not m:\n",
    "        return 0\n",
    "\n",
    "    num_str, suffix = m.groups()\n",
    "    num = float(num_str.replace(',', ''))\n",
    "\n",
    "    mult = {\n",
    "        None: 1,\n",
    "        '': 1,\n",
    "        'K': 1_000,\n",
    "        'M': 1_000_000,\n",
    "        'B': 1_000_000_000\n",
    "    }\n",
    "    return int(num * mult.get(suffix.upper() if suffix else '', 1))\n",
    "\n",
    "\n",
    "def parse_ig_followers(raw):\n",
    "    pattern = '(\\\\d[\\\\d,.]*)\\\\s*(K|M|B)?\\\\s+followers'\n",
    "    m = re.search(pattern, raw, re.I)\n",
    "    return parse_nums(m)\n",
    "\n",
    "\n",
    "def parse_ig_posts(raw):\n",
    "    pattern = '(\\\\d[\\\\d,.]*)\\\\s*(K|M|B)?\\\\s+posts'\n",
    "    m = re.search(pattern, raw, re.I)\n",
    "    return parse_nums(m)\n",
    "\n",
    "def parse_ig_following(raw):\n",
    "    pattern = '(\\\\d[\\\\d,.]*)\\\\s*(K|M|B)?\\\\s+following'\n",
    "    m = re.search(pattern, raw, re.I)\n",
    "    return parse_nums(m)\n",
    "\n",
    "def trim_after_posts(raw: str) -> str:\n",
    "    if not raw:\n",
    "        return \"\"\n",
    "\n",
    "    # Normalize common invisible spaces\n",
    "    s = raw.replace(\"\\xa0\", \" \")\n",
    "\n",
    "    # Find 'posts' (or 'post') as a whole word\n",
    "    m = re.search(r'\\bposts?\\b', s, flags=re.IGNORECASE)\n",
    "    if not m:\n",
    "        return s.strip()\n",
    "\n",
    "    # Everything after the word 'posts'\n",
    "    tail = s[m.end():]\n",
    "\n",
    "    # Strip leading punctuation/delimiters often seen after 'Posts'\n",
    "    # (space, dots, hyphen, en/em dash, colon, bullets, pipes)\n",
    "    tail = re.sub(r'^[\\s\\.\\-–—:•·|]+', '', tail)\n",
    "\n",
    "    return tail.strip()\n",
    "\n",
    "def clean_instagram_title(title: str) -> str:\n",
    "    \"\"\"\n",
    "    Strip trailing '• Instagram …' (any suffix starting with a separator + 'Instagram')\n",
    "    from Google CSE titles, even if truncated with … or '...'.\n",
    "    \"\"\"\n",
    "    if not title:\n",
    "        return \"\"\n",
    "\n",
    "    t = title.replace(\"\\xa0\", \" \").strip()\n",
    "    t = re.sub(r\"\\s+\", \" \", t)  # normalize whitespace\n",
    "\n",
    "    # Remove: [separator] Instagram ... [to end]\n",
    "    # separators seen: • · - – — | (&bull; sometimes appears)\n",
    "    t = re.sub(\n",
    "        r'\\s*(?:[•·\\-\\–\\—|]|&bull;)\\s*Instagram\\b.*$',\n",
    "        '',\n",
    "        t,\n",
    "        flags=re.IGNORECASE\n",
    "    )\n",
    "\n",
    "    # Also handle rare '(Instagram)' suffixes\n",
    "    t = re.sub(r'\\s*\\(\\s*Instagram\\s*\\)\\s*$', '', t, flags=re.IGNORECASE)\n",
    "\n",
    "    # Trim dangling punctuation/spaces\n",
    "    t = t.strip(' -–—|·•').strip()\n",
    "    return t\n",
    "\n",
    "\n",
    "FOLLOWER_THRESHOLD = 2000\n",
    "\n",
    "\n",
    "def parse_and_filter_ig_data(raw_data):\n",
    "    result = dict()\n",
    "\n",
    "    for value in raw_data['instagram.com']:\n",
    "        d = dict()\n",
    "        raw_title = clean_instagram_title(value['title'])\n",
    "\n",
    "        raw_url = value['link']\n",
    "        raw_snippet = value['snippet']\n",
    "\n",
    "        parsed_url = parse_ig_url(raw_url)\n",
    "        if parsed_url[1] == 'p':\n",
    "            # result is a post, temporarily skip this result\n",
    "            continue\n",
    "        elif parsed_url[1] == 'a':\n",
    "            # result is an account\n",
    "            follower = parse_ig_followers(raw_snippet)\n",
    "            if follower < FOLLOWER_THRESHOLD:\n",
    "                # we don't care followers < 2k accounts\n",
    "                continue\n",
    "            else:\n",
    "                following = parse_ig_following(raw_snippet)\n",
    "                post = parse_ig_posts(raw_snippet)\n",
    "                description = trim_after_posts(raw_snippet)\n",
    "        else:\n",
    "            # dont handle this case for now\n",
    "            continue\n",
    "        d['type'] = 'a'\n",
    "        d['url'] = parsed_url[0]\n",
    "        d['follower'] = follower\n",
    "        d['following'] = following\n",
    "        d['post'] = post\n",
    "        d['description'] = description\n",
    "        result[raw_title] = d\n",
    "    return result\n",
    "\n",
    "data = parse_and_filter_ig_data(gather_raw_data({'instagram.com': ['instagram.com nail Tokyo followers']}))\n",
    "print(data)"
   ],
   "id": "9ed5d1f75460859e",
   "outputs": [
    {
     "name": "stdout",
     "output_type": "stream",
     "text": [
      "{'NAILS BY MEI⁖ ˖ (@nailsbymei)': {'type': 'a', 'url': 'https://www.instagram.com/nailsbymei/?hl=en', 'follower': 348000, 'following': 0, 'post': 8229, 'description': '@nailsbymei\\u200e: “\\u200e ... TOKYO ✨. Follow. suki_nailz. Nail salon East london. Follow. roho7nailz. Follow.'}, 'Tokyo Nails (@tokyonails.chicago) · Chicago, IL': {'type': 'a', 'url': 'https://www.instagram.com/tokyonails.chicago/?hl=en', 'follower': 16000, 'following': 0, 'post': 0, 'description': 'Editorial & Design Salon Specializing in Japanese Gel/GelX Hand Painted Art By Appointment Only Acrylic #japanesegel 215 N ...'}, 'SIMONE BILES (@simonebiles)': {'type': 'a', 'url': 'https://www.instagram.com/simonebiles/?hl=en', 'follower': 12000000, 'following': 291, 'post': 2987, 'description': \"SIMONE BILES (@simonebiles) on ... nails's profile picture. nails. madrid's profile picture. madrid. bahamas's ...\"}, 'Khloé Kardashian (@khloekardashian)': {'type': 'a', 'url': 'https://www.instagram.com/khloekardashian/?hl=en', 'follower': 302000000, 'following': 142, 'post': 4719, 'description': \"@khloekardashian: “Buy Khloud ... Nails's profile picture. Nails. Photo by ...\"}, 'SUCRE (@nail.sucre)': {'type': 'a', 'url': 'https://www.instagram.com/nail.sucre/?hl=en', 'follower': 94000, 'following': 22, 'post': 10016, 'description': '@nail.sucre: “新宿区新宿3丁目3-9新宿伍名館204 TOKYO.SHINJUKU @nail.sucreamer @sucre.newyork sister store No ...'}, 'Sam is Home | Hong Kong (@samishome)': {'type': 'a', 'url': 'https://www.instagram.com/samishome/?hl=en', 'follower': 305000, 'following': 286, 'post': 2168, 'description': \"@samishome: “Sam ... Sam. Follow. tokyoweekender's profile picture. tokyoweekender. Tokyo Weekender.\"}, 'Úrsula Corberó (@ursulolita)': {'type': 'a', 'url': 'https://www.instagram.com/ursulolita/?hl=en', 'follower': 20000000, 'following': 908, 'post': 405, 'description': '@ursulolita: “#TheDayOfTheJackal #Chacal ”'}, 'Rina Sawayama (@rinasonline)': {'type': 'a', 'url': 'https://www.instagram.com/rinasonline/?hl=en', 'follower': 1000000, 'following': 25, 'post': 421, 'description': '@rinasonline: “ @godmodebeauty”'}, 'Kim Kardashian (@kimkardashian)': {'type': 'a', 'url': 'https://www.instagram.com/kimkardashian/', 'follower': 356000000, 'following': 354, 'post': 6463, 'description': '@kimkardashian: “@SKIMS @SKKYPARTNERS”'}, 'Ilona Maher (@ilonamaher)': {'type': 'a', 'url': 'https://www.instagram.com/ilonamaher/?hl=en', 'follower': 5000000, 'following': 0, 'post': 2692, 'description': \"@ilonamaher: “OLYMPIC MEDALIST ... Tokyo's profile picture. Tokyo. 's profile picture.. USA 7s's profile ...\"}}\n"
     ]
    }
   ],
   "execution_count": 8
  },
  {
   "metadata": {
    "ExecuteTime": {
     "end_time": "2025-08-29T20:46:44.858685Z",
     "start_time": "2025-08-29T20:46:43.934084Z"
    }
   },
   "cell_type": "code",
   "source": [
    "import pandas as pd\n",
    "\n",
    "\n",
    "df = pd.DataFrame.from_dict(data, orient=\"index\")\n",
    "print(df)"
   ],
   "id": "e1bc11abe9a6f67b",
   "outputs": [
    {
     "name": "stdout",
     "output_type": "stream",
     "text": [
      "                                                type  \\\n",
      "NAILS BY MEI⁖ ˖ (@nailsbymei)                      a   \n",
      "Tokyo Nails (@tokyonails.chicago) · Chicago, IL    a   \n",
      "SIMONE BILES (@simonebiles)                        a   \n",
      "Khloé Kardashian (@khloekardashian)                a   \n",
      "SUCRE (@nail.sucre)                                a   \n",
      "Sam is Home | Hong Kong (@samishome)               a   \n",
      "Úrsula Corberó (@ursulolita)                       a   \n",
      "Rina Sawayama (@rinasonline)                       a   \n",
      "Kim Kardashian (@kimkardashian)                    a   \n",
      "Ilona Maher (@ilonamaher)                          a   \n",
      "\n",
      "                                                                                               url  \\\n",
      "NAILS BY MEI⁖ ˖ (@nailsbymei)                          https://www.instagram.com/nailsbymei/?hl=en   \n",
      "Tokyo Nails (@tokyonails.chicago) · Chicago, IL  https://www.instagram.com/tokyonails.chicago/?...   \n",
      "SIMONE BILES (@simonebiles)                           https://www.instagram.com/simonebiles/?hl=en   \n",
      "Khloé Kardashian (@khloekardashian)               https://www.instagram.com/khloekardashian/?hl=en   \n",
      "SUCRE (@nail.sucre)                                    https://www.instagram.com/nail.sucre/?hl=en   \n",
      "Sam is Home | Hong Kong (@samishome)                    https://www.instagram.com/samishome/?hl=en   \n",
      "Úrsula Corberó (@ursulolita)                           https://www.instagram.com/ursulolita/?hl=en   \n",
      "Rina Sawayama (@rinasonline)                          https://www.instagram.com/rinasonline/?hl=en   \n",
      "Kim Kardashian (@kimkardashian)                           https://www.instagram.com/kimkardashian/   \n",
      "Ilona Maher (@ilonamaher)                              https://www.instagram.com/ilonamaher/?hl=en   \n",
      "\n",
      "                                                  follower  following   post  \\\n",
      "NAILS BY MEI⁖ ˖ (@nailsbymei)                       348000          0   8229   \n",
      "Tokyo Nails (@tokyonails.chicago) · Chicago, IL      16000          0      0   \n",
      "SIMONE BILES (@simonebiles)                       12000000        291   2987   \n",
      "Khloé Kardashian (@khloekardashian)              302000000        142   4719   \n",
      "SUCRE (@nail.sucre)                                  94000         22  10016   \n",
      "Sam is Home | Hong Kong (@samishome)                305000        286   2168   \n",
      "Úrsula Corberó (@ursulolita)                      20000000        908    405   \n",
      "Rina Sawayama (@rinasonline)                       1000000         25    421   \n",
      "Kim Kardashian (@kimkardashian)                  356000000        354   6463   \n",
      "Ilona Maher (@ilonamaher)                          5000000          0   2692   \n",
      "\n",
      "                                                                                       description  \n",
      "NAILS BY MEI⁖ ˖ (@nailsbymei)                    @nailsbymei‎: “‎ ... TOKYO ✨. Follow. suki_nai...  \n",
      "Tokyo Nails (@tokyonails.chicago) · Chicago, IL  Editorial & Design Salon Specializing in Japan...  \n",
      "SIMONE BILES (@simonebiles)                      SIMONE BILES (@simonebiles) on ... nails's pro...  \n",
      "Khloé Kardashian (@khloekardashian)              @khloekardashian: “Buy Khloud ... Nails's prof...  \n",
      "SUCRE (@nail.sucre)                              @nail.sucre: “新宿区新宿3丁目3-9新宿伍名館204 TOKYO.SHINJU...  \n",
      "Sam is Home | Hong Kong (@samishome)             @samishome: “Sam ... Sam. Follow. tokyoweekend...  \n",
      "Úrsula Corberó (@ursulolita)                            @ursulolita: “#TheDayOfTheJackal #Chacal ”  \n",
      "Rina Sawayama (@rinasonline)                                       @rinasonline: “ @godmodebeauty”  \n",
      "Kim Kardashian (@kimkardashian)                             @kimkardashian: “@SKIMS @SKKYPARTNERS”  \n",
      "Ilona Maher (@ilonamaher)                        @ilonamaher: “OLYMPIC MEDALIST ... Tokyo's pro...  \n"
     ]
    }
   ],
   "execution_count": 9
  },
  {
   "metadata": {
    "ExecuteTime": {
     "end_time": "2025-08-29T20:46:44.867659Z",
     "start_time": "2025-08-29T20:46:44.864974Z"
    }
   },
   "cell_type": "code",
   "source": [
    "import csv\n",
    "\n",
    "def save_profiles_to_csv(data: dict, path: str = \"instagram_profiles.csv\"):\n",
    "    \"\"\"\n",
    "    Save your {title: {...fields...}} dict to a CSV.\n",
    "    \"\"\"\n",
    "    # Desired column order (others will be appended if present)\n",
    "    base_fields = [\"title\", \"type\", \"url\", \"follower\", \"following\", \"post\", \"description\"]\n",
    "\n",
    "    # Build rows and collect any extra keys that appear\n",
    "    rows, extra_keys = [], set()\n",
    "    for title, info in data.items():\n",
    "        row = {\"title\": title}\n",
    "        row.update(info or {})\n",
    "        rows.append(row)\n",
    "        extra_keys.update(k for k in row.keys() if k not in base_fields)\n",
    "\n",
    "    # Final field order\n",
    "    fieldnames = base_fields + sorted(extra_keys)\n",
    "\n",
    "    with open(path, \"w\", newline=\"\", encoding=\"utf-8\") as f:\n",
    "        w = csv.DictWriter(f, fieldnames=fieldnames)\n",
    "        w.writeheader()\n",
    "        for r in rows:\n",
    "            # ensure all fields exist (avoid KeyError)\n",
    "            for k in fieldnames:\n",
    "                r.setdefault(k, \"\")\n",
    "            w.writerow(r)\n",
    "\n",
    "# Example:\n",
    "save_profiles_to_csv(data, \"profiles.csv\")"
   ],
   "id": "44da8999714fdd67",
   "outputs": [],
   "execution_count": 10
  },
  {
   "metadata": {},
   "cell_type": "code",
   "outputs": [],
   "execution_count": null,
   "source": "",
   "id": "c3ac2c92579cd9e9"
  },
  {
   "metadata": {},
   "cell_type": "code",
   "outputs": [],
   "execution_count": null,
   "source": "print(\"Hello World!\")\n",
   "id": "fbc121e30a2defb3"
  }
 ],
 "metadata": {
  "kernelspec": {
   "display_name": "Python 3",
   "language": "python",
   "name": "python3"
  },
  "language_info": {
   "codemirror_mode": {
    "name": "ipython",
    "version": 2
   },
   "file_extension": ".py",
   "mimetype": "text/x-python",
   "name": "python",
   "nbconvert_exporter": "python",
   "pygments_lexer": "ipython2",
   "version": "2.7.6"
  }
 },
 "nbformat": 4,
 "nbformat_minor": 5
}

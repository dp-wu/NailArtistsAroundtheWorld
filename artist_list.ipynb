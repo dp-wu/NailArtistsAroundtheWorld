{
 "cells": [
  {
   "metadata": {},
   "cell_type": "markdown",
   "source": "### Test environment, Create a folder to store result",
   "id": "7991e0b846998375"
  },
  {
   "metadata": {
    "ExecuteTime": {
     "end_time": "2025-08-28T23:21:10.840117Z",
     "start_time": "2025-08-28T23:21:10.832642Z"
    }
   },
   "cell_type": "code",
   "source": [
    "import os, pathlib\n",
    "from dotenv import load_dotenv\n",
    "from tornado.gen import multi\n",
    "\n",
    "pathlib.Path(\"Out\").mkdir(exist_ok=True)\n",
    "print(\"Out/ ready.\")\n",
    "\n",
    "load_dotenv()\n",
    "print(\"Env loaded. API_KEY present? \", bool(os.getenv(\"API_KEY\")))\n",
    "print(\"Kernel OK.\")"
   ],
   "id": "72ae3f0dce2be70",
   "outputs": [
    {
     "name": "stdout",
     "output_type": "stream",
     "text": [
      "Out/ ready.\n",
      "Env loaded. API_KEY present?  True\n",
      "Kernel OK.\n"
     ]
    }
   ],
   "execution_count": 1
  },
  {
   "metadata": {},
   "cell_type": "markdown",
   "source": "### Test API Key and Search Engine ID",
   "id": "19e5f17c64a7a99b"
  },
  {
   "metadata": {
    "ExecuteTime": {
     "end_time": "2025-08-28T23:21:13.109151Z",
     "start_time": "2025-08-28T23:21:13.107160Z"
    }
   },
   "cell_type": "code",
   "source": [
    "API_KEY = os.getenv(\"API_KEY\")\n",
    "CX_ID = os.getenv(\"CX_ID\")\n",
    "assert API_KEY and CX_ID, \"Set API_KEY and CX_ID in your .env file\"\n",
    "print(\"OK, keys loaded.\")"
   ],
   "id": "bc9be4d460fbd877",
   "outputs": [
    {
     "name": "stdout",
     "output_type": "stream",
     "text": [
      "OK, keys loaded.\n"
     ]
    }
   ],
   "execution_count": 2
  },
  {
   "metadata": {},
   "cell_type": "markdown",
   "source": "### Setup Queries and Pages",
   "id": "576e866730399572"
  },
  {
   "metadata": {
    "ExecuteTime": {
     "end_time": "2025-08-28T23:21:15.091076Z",
     "start_time": "2025-08-28T23:21:15.086959Z"
    }
   },
   "cell_type": "code",
   "source": [
    "import json\n",
    "\n",
    "\n",
    "PAGES = os.getenv(\"PAGES\")\n",
    "FOLLOWER_MIN=os.getenv(\"FOLLOWER_MIN\")\n",
    "SITES = pathlib.Path(\"queries\") / \"sites.json\"\n",
    "CITIES = pathlib.Path(\"queries\") / \"cities.json\"\n",
    "VIEWS = pathlib.Path(\"queries\") / \"views.json\"\n",
    "PATTERNS = pathlib.Path(\"queries\") / \"patterns.json\"\n",
    "KEYWORDS = pathlib.Path(\"queries\") / \"keywords.json\"\n",
    "\n",
    "def create_queries() -> dict[str, list[str]]:\n",
    "    with open(SITES) as sites_file:\n",
    "        sites = json.load(sites_file)\n",
    "    with open(CITIES) as cities_file:\n",
    "        cities = json.load(cities_file)\n",
    "    with open(KEYWORDS) as keywords_file:\n",
    "        keywords = json.load(keywords_file)\n",
    "\n",
    "    q = dict()\n",
    "    for site in sites[\"social_media\"]:\n",
    "        # modify this part to get different filter combos\n",
    "        q[site] = [f\"{site} {keyword} {city}\" for keyword in keywords[\"nail\"] for city in cities[\"top_major_cities\"]]\n",
    "\n",
    "    return q\n",
    "\n",
    "QUERY = create_queries()"
   ],
   "id": "bfa12c98b77c61e6",
   "outputs": [],
   "execution_count": 3
  },
  {
   "metadata": {
    "ExecuteTime": {
     "end_time": "2025-08-28T23:21:15.868772Z",
     "start_time": "2025-08-28T23:21:15.867072Z"
    }
   },
   "cell_type": "code",
   "source": [
    "for i in QUERY:\n",
    "    print(i, QUERY[i])"
   ],
   "id": "16b9bcab0e3ae36f",
   "outputs": [
    {
     "name": "stdout",
     "output_type": "stream",
     "text": [
      "instagram.com ['instagram.com nail Tokyo', 'instagram.com nail Osaka', 'instagram.com nail Seoul', 'instagram.com nail Shanghai', 'instagram.com nail Hong Kong', 'instagram.com nail Singapore', 'instagram.com nail Bangkok', 'instagram.com nail New York', 'instagram.com nail Los Angeles', 'instagram.com nail Paris', 'instagram.com nail London', 'instagram.com nails Tokyo', 'instagram.com nails Osaka', 'instagram.com nails Seoul', 'instagram.com nails Shanghai', 'instagram.com nails Hong Kong', 'instagram.com nails Singapore', 'instagram.com nails Bangkok', 'instagram.com nails New York', 'instagram.com nails Los Angeles', 'instagram.com nails Paris', 'instagram.com nails London', 'instagram.com press-on nails Tokyo', 'instagram.com press-on nails Osaka', 'instagram.com press-on nails Seoul', 'instagram.com press-on nails Shanghai', 'instagram.com press-on nails Hong Kong', 'instagram.com press-on nails Singapore', 'instagram.com press-on nails Bangkok', 'instagram.com press-on nails New York', 'instagram.com press-on nails Los Angeles', 'instagram.com press-on nails Paris', 'instagram.com press-on nails London']\n"
     ]
    }
   ],
   "execution_count": 4
  },
  {
   "metadata": {},
   "cell_type": "markdown",
   "source": "### Parse url and gather data with patterns and queries",
   "id": "b7414cf3f072adb4"
  },
  {
   "metadata": {
    "ExecuteTime": {
     "end_time": "2025-08-29T00:31:16.341021Z",
     "start_time": "2025-08-29T00:31:15.678012Z"
    }
   },
   "cell_type": "code",
   "source": [
    "import re\n",
    "import requests\n",
    "from urllib.parse import urlparse\n",
    "\n",
    "\n",
    "def customized_search(query: str, start: int = 1):\n",
    "    r = requests.get(\n",
    "        \"https://www.googleapis.com/customsearch/v1\",\n",
    "        params={\"key\": API_KEY, \"cx\": CX_ID, \"q\": query, \"start\": start},\n",
    "        timeout=30\n",
    "    )\n",
    "    r.raise_for_status()\n",
    "    return r.json()\n",
    "\n",
    "\n",
    "\n",
    "def gather_raw_data(query: dict[str, list[str]]) -> dict[str, list[str]]:\n",
    "    raw_data = dict()\n",
    "    for site, fil in query.items():\n",
    "        raw_data[site] = customized_search(fil).get(\"items\", [])\n",
    "    return raw_data\n",
    "\n",
    "\n",
    "print(gather_raw_data({'instagram.com': ['instagram.com nail Tokyo followers']}))\n",
    "\n",
    "\n",
    "def _to_int(num_str: str, text: str) -> int:\n",
    "    s = num_str.replace(',', '')\n",
    "    try:\n",
    "        val = float(s)\n",
    "    except ValueError:\n",
    "        return 0\n",
    "    # suffixes in same token or surrounding text\n",
    "    t = text.lower()\n",
    "    if re.search(r'\\b(\\d[\\d,]*\\.?\\d*)\\s*[k]\\b', text, re.I) and num_str in text:\n",
    "        return int(val * 1_000)\n",
    "    if re.search(r'\\b(\\d[\\d,]*\\.?\\d*)\\s*[m]\\b', text, re.I) and num_str in text:\n",
    "        return int(val * 1_000_000)\n",
    "    # Japanese units\n",
    "    if '万' in text:\n",
    "        return int(val * 10_000)\n",
    "    if '千' in text:\n",
    "        return int(val * 1_000)\n",
    "    return int(val)\n",
    "\n",
    "def parse_ig_snippet(snippet: str) -> dict[str, list[str]]:\n",
    "    return json.loads(snippet)\n",
    "\n",
    "def parse_ig_url(url: str) -> tuple[str, str]:\n",
    "    \"\"\"\n",
    "    Given a URL, return its username.\n",
    "    :param url:\n",
    "    :return: account web address\n",
    "    \"\"\"\n",
    "    p = urlparse(url)\n",
    "    url_segments = p.path.split(\"/\")\n",
    "\n",
    "    # this set might not contain all possible tags, so the result might contain some incorrect links\n",
    "    if url_segments[0].lower() not in {\"p\", \"reels\", \"stories\", \"explore\", \"tv\", \"channels\", \"direct\"}:\n",
    "        return p, \"a\"\n",
    "    elif url_segments[0].lower() == \"p\":\n",
    "        return p, \"p\"\n",
    "    return \"none\", \"none\"\n",
    "\n",
    "\"\"\"\n",
    "def parse_data(data: dict[str, list[str]]) -> dict[str, list[str]]:\n",
    "    items = gather_raw_data(QUERY).get(\"items\", [])\n",
    "    rows = list()\n",
    "\n",
    "    for it in items:\n",
    "        link = it.get(\"link\", \"\")\n",
    "        if \"instagram.com\" not in link: continue\n",
    "        uname = parse_ig_username(link)\n",
    "        if not uname: continue\n",
    "\n",
    "        snippet = (it or {}).get(\"snippet\", \"\").strip()\n",
    "        if\n",
    "\"\"\""
   ],
   "id": "dc8e8c94400ca6e3",
   "outputs": [
    {
     "name": "stdout",
     "output_type": "stream",
     "text": [
      "{'instagram.com': [{'kind': 'customsearch#result', 'title': 'Tokyo Nails (@tokyonails.chicago) · Chicago, IL', 'htmlTitle': '<b>Tokyo Nails</b> (@<b>tokyonails</b>.chicago) · Chicago, IL', 'link': 'https://www.instagram.com/tokyonails.chicago/?hl=en', 'displayLink': 'www.instagram.com', 'snippet': '16K followers · 1.1K+ posts · Editorial & Design Salon Specializing in Japanese Gel/GelX Hand Painted Art By Appointment Only Acrylic #japanesegel 215 N\\xa0...', 'htmlSnippet': '16K <b>followers</b> · 1.1K+ posts · Editorial &amp; Design Salon Specializing in Japanese Gel/GelX Hand Painted Art By Appointment Only Acrylic #japanesegel 215 N&nbsp;...', 'formattedUrl': 'https://www.instagram.com/tokyonails.chicago/?hl=en', 'htmlFormattedUrl': 'https://www.<b>instagram.com</b>/<b>tokyonail</b>s.chicago/?hl=en', 'pagemap': {'cse_thumbnail': [{'src': 'https://encrypted-tbn0.gstatic.com/images?q=tbn:ANd9GcRUfJ8TLL7IqTbcNWBPQYj59UpC6Xv9VFTf_NK3cMP45HVRd9ZxWXNRXcCp&s', 'width': '194', 'height': '259'}], 'xfn': [{}], 'metatags': [{'og:image': 'https://scontent-iad3-2.cdninstagram.com/v/t51.2885-19/82168292_568732880496376_1075909008662986752_n.jpg?stp=dst-jpg_s100x100_tt6&_nc_cat=111&ccb=7-5&_nc_sid=bf7eb4&efg=eyJ2ZW5jb2RlX3RhZyI6InByb2ZpbGVfcGljLnd3dy4zNjcuQzMifQ%3D%3D&_nc_ohc=uWs2iZD9Y4QQ7kNvwHw-xUU&_nc_oc=AdnelIH6CEsEvWloutppP0AFsPPr14ItL4TW5ozyVQ2ew3kSUetyiEtQJXgfsSOcTTY&_nc_zt=24&_nc_ht=scontent-iad3-2.cdninstagram.com&oh=00_AfWDforHXK7AEHeMMmSfYEF7qVBCW9vW8TA26kXa42zv7Q&oe=68B6B047', 'theme-color': '#FFFFFF', 'og:type': 'profile', 'al:ios:app_name': 'Instagram', 'og:title': '𝐓𝐨𝐤𝐲𝐨 𝐍𝐚𝐢𝐥𝐬 (@tokyonails.chicago) • Instagram photos and videos', 'application-title': 'Instagram', 'al:android:package': 'com.instagram.android', 'bingbot': 'noarchive', 'al:ios:url': 'instagram://user?username=tokyonails.chicago', 'color-scheme': 'light', 'og:description': '16K Followers, 4,039 Following, 1,108 Posts - See Instagram photos and videos from 𝐓𝐨𝐤𝐲𝐨 𝐍𝐚𝐢𝐥𝐬 (@tokyonails.chicago)', 'al:ios:app_store_id': '389801252', 'al:android:url': 'https://instagram.com/_u/tokyonails.chicago/', 'apple-mobile-web-app-status-bar-style': 'default', 'viewport': 'width=device-width, initial-scale=1, minimum-scale=1, maximum-scale=1, viewport-fit=cover', 'mobile-web-app-capable': 'yes', 'og:url': 'https://www.instagram.com/tokyonails.chicago/', 'al:android:app_name': 'Instagram'}], 'cse_image': [{'src': 'https://lookaside.instagram.com/seo/google_widget/crawler/?media_id=3705128911034679699'}]}}, {'kind': 'customsearch#result', 'title': 'SIMONE BILES (@simonebiles) • Instagram photos and videos', 'htmlTitle': 'SIMONE BILES (@simonebiles) • <b>Instagram</b> photos and videos', 'link': 'https://www.instagram.com/simonebiles/?hl=en', 'displayLink': 'www.instagram.com', 'snippet': \"12M Followers, 289 Following, 2987 Posts - SIMONE BILES (@simonebiles) on ... nails's profile picture. nails. madrid's profile picture. madrid. bahamas's\\xa0...\", 'htmlSnippet': '12M <b>Followers</b>, 289 Following, 2987 Posts - SIMONE BILES (@simonebiles) on ... <b>nails&#39;s</b> profile picture. <b>nails</b>. madrid&#39;s profile picture. madrid. bahamas&#39;s&nbsp;...', 'formattedUrl': 'https://www.instagram.com/simonebiles/?hl=en', 'htmlFormattedUrl': 'https://www.<b>instagram.com</b>/simonebiles/?hl=en', 'pagemap': {'cse_thumbnail': [{'src': 'https://encrypted-tbn0.gstatic.com/images?q=tbn:ANd9GcQ33mQpP6EpW-wlT8HElgOFE2AqcFNUFZDWmCSDJ6kdkQkZGKnzJqGhCrI&s', 'width': '201', 'height': '251'}], 'metatags': [{'og:image': 'https://scontent-iad3-1.cdninstagram.com/v/t51.82787-19/520902237_18520458844061188_7235611543979472377_n.jpg?stp=dst-jpg_s100x100_tt6&_nc_cat=1&ccb=7-5&_nc_sid=bf7eb4&efg=eyJ2ZW5jb2RlX3RhZyI6InByb2ZpbGVfcGljLnd3dy4xMDgwLkMzIn0%3D&_nc_ohc=7Hf2-iiq_hAQ7kNvwHgQSBw&_nc_oc=AdkEoteJO2-N-CQ6Yw7DqZCTAdvCCL-wMH0yOfx6DyJg1_PAkr3XWKiDW3wQxupIzAQ&_nc_zt=24&_nc_ht=scontent-iad3-1.cdninstagram.com&_nc_gid=ssVb06aZwhVW8ljBbno9nQ&oh=00_AfWWKonzQculQS1MjCQg6rrjzupjd3YQbOrcwSaK2s_bOw&oe=68B696D7', 'theme-color': '#FFFFFF', 'og:type': 'profile', 'al:ios:app_name': 'Instagram', 'og:title': 'SIMONE BILES (@simonebiles) • Instagram photos and videos', 'application-title': 'Instagram', 'al:android:package': 'com.instagram.android', 'bingbot': 'noarchive', 'al:ios:url': 'instagram://user?username=simonebiles', 'color-scheme': 'light', 'og:description': '12M Followers, 289 Following, 2,987 Posts - See Instagram photos and videos from SIMONE BILES (@simonebiles)', 'al:ios:app_store_id': '389801252', 'al:android:url': 'https://instagram.com/_u/simonebiles/', 'apple-mobile-web-app-status-bar-style': 'default', 'viewport': 'width=device-width, initial-scale=1, minimum-scale=1, maximum-scale=1, viewport-fit=cover', 'mobile-web-app-capable': 'yes', 'og:url': 'https://www.instagram.com/simonebiles/', 'al:android:app_name': 'Instagram'}], 'cse_image': [{'src': 'https://lookaside.instagram.com/seo/google_widget/crawler/?media_id=3086681077591018788'}]}}, {'kind': 'customsearch#result', 'title': 'SUCRE (@nail.sucre) • Instagram photos and videos', 'htmlTitle': 'SUCRE (@<b>nail</b>.sucre) • <b>Instagram</b> photos and videos', 'link': 'https://www.instagram.com/nail.sucre/?hl=en', 'displayLink': 'www.instagram.com', 'snippet': '94K followers · 22 following · 10014 posts · @nail.sucre: “新宿区新宿3丁目3-9新宿伍名館204 TOKYO.SHINJUKU @nail.sucreamer @sucre.newyork sister store No\\xa0...', 'htmlSnippet': '94K <b>followers</b> · 22 following · 10014 posts · @<b>nail</b>.sucre: “新宿区新宿3丁目3-9新宿伍名館204 <b>TOKYO</b>.SHINJUKU @<b>nail</b>.sucreamer @sucre.newyork sister store   No&nbsp;...', 'formattedUrl': 'https://www.instagram.com/nail.sucre/?hl=en', 'htmlFormattedUrl': 'https://www.<b>instagram.com</b>/<b>nail</b>.sucre/?hl=en', 'pagemap': {'cse_thumbnail': [{'src': 'https://encrypted-tbn0.gstatic.com/images?q=tbn:ANd9GcTwrXlaY5oPh3WBRUJogFy95_87Q7k44h6LCXyAc49OVCaosTtcoToQTIun&s', 'width': '220', 'height': '229'}], 'xfn': [{}], 'metatags': [{'og:image': 'https://scontent-iad3-2.cdninstagram.com/v/t51.2885-19/16110400_1221873181241009_2292786501907382272_a.jpg?stp=dst-jpg_s100x100_tt6&_nc_cat=100&ccb=7-5&_nc_sid=bf7eb4&efg=eyJ2ZW5jb2RlX3RhZyI6InByb2ZpbGVfcGljLnd3dy44NzMuQzMifQ%3D%3D&_nc_ohc=ZRC-2UMaS0kQ7kNvwFlBZVu&_nc_oc=AdmbtJwzdl0C1UAAG0xEl3Zc2aGxTzljg5FFC6OorqojS-NwHu5mvYHh1pJ4IcY2Kyk&_nc_zt=24&_nc_ht=scontent-iad3-2.cdninstagram.com&oh=00_AfUPjxamzEJx6KTAU1SjeUMP0FSmvq5mlhwsEEUemCtPnw&oe=68B67197', 'theme-color': '#FFFFFF', 'og:type': 'profile', 'al:ios:app_name': 'Instagram', 'og:title': 'SUCRE (@nail.sucre) • Instagram photos and videos', 'application-title': 'Instagram', 'al:android:package': 'com.instagram.android', 'bingbot': 'noarchive', 'al:ios:url': 'instagram://user?username=nail.sucre', 'color-scheme': 'light', 'og:description': '94K Followers, 22 Following, 10K Posts - See Instagram photos and videos from SUCRE (@nail.sucre)', 'al:ios:app_store_id': '389801252', 'al:android:url': 'https://instagram.com/_u/nail.sucre/', 'apple-mobile-web-app-status-bar-style': 'default', 'viewport': 'width=device-width, initial-scale=1, minimum-scale=1, maximum-scale=1, viewport-fit=cover', 'mobile-web-app-capable': 'yes', 'og:url': 'https://www.instagram.com/nail.sucre/', 'al:android:app_name': 'Instagram'}], 'cse_image': [{'src': 'https://lookaside.instagram.com/seo/google_widget/crawler/?media_id=3533070480758301179'}]}}, {'kind': 'customsearch#result', 'title': 'Sam is Home | Hong Kong (@samishome) • Instagram photos and ...', 'htmlTitle': 'Sam is Home | Hong Kong (@samishome) • <b>Instagram</b> photos and ...', 'link': 'https://www.instagram.com/samishome/?hl=en', 'displayLink': 'www.instagram.com', 'snippet': \"305K followers · 286 following · 2168 posts · @samishome: “Sam ... Sam. Follow. tokyoweekender's profile picture. tokyoweekender. Tokyo Weekender.\", 'htmlSnippet': '305K <b>followers</b> · 286 following · 2168 posts · @samishome: “Sam ... Sam. Follow. <b>tokyoweekender&#39;s</b> profile picture. <b>tokyoweekender</b>. <b>Tokyo</b> Weekender.', 'formattedUrl': 'https://www.instagram.com/samishome/?hl=en', 'htmlFormattedUrl': 'https://www.<b>instagram.com</b>/samishome/?hl=en', 'pagemap': {'cse_thumbnail': [{'src': 'https://encrypted-tbn0.gstatic.com/images?q=tbn:ANd9GcTA09_AqJ5U8_0PVW4Zr03HqdQTDPzBLJTDd_f40S5KSm9ByyIUnsPMTR0&s', 'width': '168', 'height': '299'}], 'xfn': [{}], 'metatags': [{'og:image': 'https://scontent-iad3-1.cdninstagram.com/v/t51.2885-19/89644240_203991567580497_7969992720368271360_n.jpg?stp=dst-jpg_s100x100_tt6&_nc_cat=110&ccb=7-5&_nc_sid=bf7eb4&efg=eyJ2ZW5jb2RlX3RhZyI6InByb2ZpbGVfcGljLnd3dy4xMDgwLkMzIn0%3D&_nc_ohc=Za97Xf-4R68Q7kNvwHQZDmI&_nc_oc=Adk22BOFFfQcN199A3dXZwYDNgzKMTB2oHuPKCnMpDecOyW6lffLQN_yVmWKowkize0&_nc_zt=24&_nc_ht=scontent-iad3-1.cdninstagram.com&oh=00_AfXI9UADQ1ncQEE34PDCZgcxY4tv_m2OJ9tnN2Fe9tdPuQ&oe=68B6BE2D', 'theme-color': '#FFFFFF', 'og:type': 'profile', 'al:ios:app_name': 'Instagram', 'og:title': 'Sam is Home | Hong Kong (@samishome) • Instagram photos and videos', 'application-title': 'Instagram', 'al:android:package': 'com.instagram.android', 'bingbot': 'noarchive', 'al:ios:url': 'instagram://user?username=samishome', 'color-scheme': 'light', 'og:description': '305K Followers, 286 Following, 2,168 Posts - See Instagram photos and videos from Sam is Home | Hong Kong (@samishome)', 'al:ios:app_store_id': '389801252', 'al:android:url': 'https://instagram.com/_u/samishome/', 'apple-mobile-web-app-status-bar-style': 'default', 'viewport': 'width=device-width, initial-scale=1, minimum-scale=1, maximum-scale=1, viewport-fit=cover', 'mobile-web-app-capable': 'yes', 'og:url': 'https://www.instagram.com/samishome/', 'al:android:app_name': 'Instagram'}], 'cse_image': [{'src': 'https://lookaside.instagram.com/seo/google_widget/crawler/?media_id=3703351661378054213'}]}}, {'kind': 'customsearch#result', 'title': 'Úrsula Corberó (@ursulolita) • Instagram photos and videos', 'htmlTitle': 'Úrsula Corberó (@ursulolita) • <b>Instagram</b> photos and videos', 'link': 'https://www.instagram.com/ursulolita/?hl=en', 'displayLink': 'www.instagram.com', 'snippet': '20M followers · 907 following · 405 posts · @ursulolita: “#TheDayOfTheJackal ... erinaritanail ▫Diseño del set: @solenebiff ▫Director de luces\\xa0...', 'htmlSnippet': '20M <b>followers</b> · 907 following · 405 posts · @ursulolita: “#TheDayOfTheJackal ... <b>erinaritanail</b> ▫Diseño del set: @solenebiff ▫Director de luces&nbsp;...', 'formattedUrl': 'https://www.instagram.com/ursulolita/?hl=en', 'htmlFormattedUrl': 'https://www.<b>instagram.com</b>/ursulolita/?hl=en', 'pagemap': {'cse_thumbnail': [{'src': 'https://encrypted-tbn0.gstatic.com/images?q=tbn:ANd9GcRSVtvuQLknnNttSd_41SRjqKM3zLRKhctVLgWS-WVNf6XnwV6NYEpbzhY&s', 'width': '201', 'height': '251'}], 'xfn': [{}], 'metatags': [{'og:image': 'https://scontent-iad3-1.cdninstagram.com/v/t51.75761-19/504191294_18520939873039468_363018190904898491_n.jpg?stp=dst-jpg_s100x100_tt6&_nc_cat=1&ccb=7-5&_nc_sid=bf7eb4&efg=eyJ2ZW5jb2RlX3RhZyI6InByb2ZpbGVfcGljLnd3dy4xMDgwLkMzIn0%3D&_nc_ohc=nVSUZXJXpF0Q7kNvwFFTxb5&_nc_oc=AdldDoE2n1WSki-0AWsu8ATFuLI1DzDvY3mdgr-_eP536jTXnhWVqT05Bb3-wiwioFw&_nc_zt=24&_nc_ht=scontent-iad3-1.cdninstagram.com&_nc_gid=1GKXxlV9zprvJNmfeDqydg&oh=00_AfV8ggaK5TQE59FhI80B86Q0OdQMAiBb7ttYnxZlkUsIrA&oe=68B6C1D7', 'theme-color': '#FFFFFF', 'og:type': 'profile', 'al:ios:app_name': 'Instagram', 'og:title': 'Úrsula Corberó (@ursulolita) • Instagram photos and videos', 'application-title': 'Instagram', 'al:android:package': 'com.instagram.android', 'bingbot': 'noarchive', 'al:ios:url': 'instagram://user?username=ursulolita', 'color-scheme': 'light', 'og:description': '20M Followers, 907 Following, 405 Posts - See Instagram photos and videos from Úrsula Corberó (@ursulolita)', 'al:ios:app_store_id': '389801252', 'al:android:url': 'https://instagram.com/_u/ursulolita/', 'apple-mobile-web-app-status-bar-style': 'default', 'viewport': 'width=device-width, initial-scale=1, minimum-scale=1, maximum-scale=1, viewport-fit=cover', 'mobile-web-app-capable': 'yes', 'og:url': 'https://www.instagram.com/ursulolita/', 'al:android:app_name': 'Instagram'}], 'cse_image': [{'src': 'https://lookaside.instagram.com/seo/google_widget/crawler/?media_id=3512218479601969630'}]}}, {'kind': 'customsearch#result', 'title': 'Rina Sawayama (@rinasonline) • Instagram photos and videos', 'htmlTitle': 'Rina Sawayama (@rinasonline) • <b>Instagram</b> photos and videos', 'link': 'https://www.instagram.com/rinasonline/?hl=en', 'displayLink': 'www.instagram.com', 'snippet': '1M followers · 25 following · 421 posts · @rinasonline: “ @godmodebeauty”', 'htmlSnippet': '1M <b>followers</b> · 25 following · 421 posts · @rinasonline: “       @godmodebeauty”', 'formattedUrl': 'https://www.instagram.com/rinasonline/?hl=en', 'htmlFormattedUrl': 'https://www.<b>instagram.com</b>/rinasonline/?hl=en', 'pagemap': {'xfn': [{}], 'metatags': [{'og:image': 'https://scontent-iad3-1.cdninstagram.com/v/t51.2885-19/449175953_1955575548225908_9100980894302773985_n.jpg?stp=dst-jpg_s100x100_tt6&_nc_cat=108&ccb=7-5&_nc_sid=bf7eb4&efg=eyJ2ZW5jb2RlX3RhZyI6InByb2ZpbGVfcGljLnd3dy4xMDgwLkMzIn0%3D&_nc_ohc=FAlHgv2S8UQQ7kNvwFUG2rR&_nc_oc=AdmKRMpGRLT2eq_0nVoAJjdYVJrfwVpzKIpyoRD8eixS7NlBPZwOqZgphRbFlQ0yW-k&_nc_zt=24&_nc_ht=scontent-iad3-1.cdninstagram.com&oh=00_AfVhiso8PXU8r55n2MWPHc4S2I6b0UnLYSH5Zp6G84lO7Q&oe=68B6A40A', 'theme-color': '#FFFFFF', 'og:type': 'profile', 'al:ios:app_name': 'Instagram', 'og:title': 'Rina Sawayama (@rinasonline) • Instagram photos and videos', 'application-title': 'Instagram', 'al:android:package': 'com.instagram.android', 'bingbot': 'noarchive', 'al:ios:url': 'instagram://user?username=rinasonline', 'color-scheme': 'light', 'og:description': '1M Followers, 25 Following, 421 Posts - See Instagram photos and videos from Rina Sawayama (@rinasonline)', 'al:ios:app_store_id': '389801252', 'al:android:url': 'https://instagram.com/_u/rinasonline/', 'apple-mobile-web-app-status-bar-style': 'default', 'viewport': 'width=device-width, initial-scale=1, minimum-scale=1, maximum-scale=1, viewport-fit=cover', 'mobile-web-app-capable': 'yes', 'og:url': 'https://www.instagram.com/rinasonline/', 'al:android:app_name': 'Instagram'}], 'cse_image': [{'src': 'https://scontent-iad3-1.cdninstagram.com/v/t51.2885-19/449175953_1955575548225908_9100980894302773985_n.jpg?stp=dst-jpg_s100x100_tt6&_nc_cat=108&ccb=7-5&_nc_sid=bf7eb4&efg=eyJ2ZW5jb2RlX3RhZyI6InByb2ZpbGVfcGljLnd3dy4xMDgwLkMzIn0%3D&_nc_ohc=FAlHgv2S8UQQ7kNvwFUG2rR&_nc_oc=AdmKRMpGRLT2eq_0nVoAJjdYVJrfwVpzKIpyoRD8eixS7NlBPZwOqZgphRbFlQ0yW-k&_nc_zt=24&_nc_ht=scontent-iad3-1.cdninstagram.com&oh=00_AfVhiso8PXU8r55n2MWPHc4S2I6b0UnLYSH5Zp6G84lO7Q&oe=68B6A40A'}]}}, {'kind': 'customsearch#result', 'title': 'Kim Kardashian (@kimkardashian) • Instagram photos and videos', 'htmlTitle': 'Kim Kardashian (@kimkardashian) • <b>Instagram</b> photos and videos', 'link': 'https://www.instagram.com/kimkardashian/', 'displayLink': 'www.instagram.com', 'snippet': '356M followers · 354 following · 6463 posts · @kimkardashian: “@SKIMS @SKKYPARTNERS”', 'htmlSnippet': '356M <b>followers</b> · 354 following · 6463 posts · @kimkardashian: “@SKIMS @SKKYPARTNERS”', 'formattedUrl': 'https://www.instagram.com/kimkardashian/', 'htmlFormattedUrl': 'https://www.<b>instagram.com</b>/kimkardashian/', 'pagemap': {'cse_thumbnail': [{'src': 'https://encrypted-tbn0.gstatic.com/images?q=tbn:ANd9GcRFnPMWqQSU201zZOdWZ-AeThvZI7ZRp7InZ8WqAq44wUqV1gzTGA29IXk&s', 'width': '201', 'height': '251'}], 'xfn': [{}], 'metatags': [{'og:image': 'https://scontent-atl3-3.cdninstagram.com/v/t51.2885-19/314397231_636674618202803_1672434101401302981_n.jpg?stp=dst-jpg_s100x100_tt6&_nc_cat=1&ccb=7-5&_nc_sid=bf7eb4&efg=eyJ2ZW5jb2RlX3RhZyI6InByb2ZpbGVfcGljLnd3dy4xMDI4LkMzIn0%3D&_nc_ohc=3UQeWFL5TLcQ7kNvwFJWAKo&_nc_oc=AdnZLUy-QqRGwM2i4z0-6sE0CHu0ei3ugkrhlSxFU99DCpTT_J3QSJiDtWduWw_ZjnY&_nc_zt=24&_nc_ht=scontent-atl3-3.cdninstagram.com&oh=00_AfXo9AJ0KC-rWunmiJ91xNL2z_49QjHq2MU0b4OyFw6T8A&oe=68B68B9E', 'theme-color': '#FFFFFF', 'og:type': 'profile', 'al:ios:app_name': 'Instagram', 'og:title': 'Kim Kardashian (@kimkardashian) • Instagram photos and videos', 'application-title': 'Instagram', 'al:android:package': 'com.instagram.android', 'bingbot': 'noarchive', 'al:ios:url': 'instagram://user?username=kimkardashian', 'color-scheme': 'light', 'og:description': '356M Followers, 354 Following, 6,463 Posts - See Instagram photos and videos from Kim Kardashian (@kimkardashian)', 'al:ios:app_store_id': '389801252', 'al:android:url': 'https://instagram.com/_u/kimkardashian/', 'apple-mobile-web-app-status-bar-style': 'default', 'viewport': 'width=device-width, initial-scale=1, minimum-scale=1, maximum-scale=1, viewport-fit=cover', 'mobile-web-app-capable': 'yes', 'og:url': 'https://www.instagram.com/kimkardashian/', 'al:android:app_name': 'Instagram'}], 'cse_image': [{'src': 'https://lookaside.instagram.com/seo/google_widget/crawler/?media_id=3702724085261152390'}]}}, {'kind': 'customsearch#result', 'title': 'Ilona Maher (@ilonamaher) • Instagram photos and videos', 'htmlTitle': 'Ilona Maher (@ilonamaher) • <b>Instagram</b> photos and videos', 'link': 'https://www.instagram.com/ilonamaher/?hl=en', 'displayLink': 'www.instagram.com', 'snippet': \"5M followers · 2.8K+ following · 2692 posts · @ilonamaher: “OLYMPIC MEDALIST ... Tokyo's profile picture. Tokyo. 's profile picture.. USA 7s's profile\\xa0...\", 'htmlSnippet': '5M <b>followers</b> · 2.8K+ following · 2692 posts · @ilonamaher: “OLYMPIC MEDALIST ... <b>Tokyo&#39;s</b> profile picture. <b>Tokyo</b>. &#39;s profile picture.. USA 7s&#39;s profile&nbsp;...', 'formattedUrl': 'https://www.instagram.com/ilonamaher/?hl=en', 'htmlFormattedUrl': 'https://www.<b>instagram.com</b>/ilonamaher/?hl=en', 'pagemap': {'cse_thumbnail': [{'src': 'https://encrypted-tbn0.gstatic.com/images?q=tbn:ANd9GcQCI59mkMNAKW8pvnXYyXRGLlKB0GwbFMZav7LFdqLyArFC3qUibp6olqo&s', 'width': '201', 'height': '251'}], 'metatags': [{'og:image': 'https://scontent-iad3-1.cdninstagram.com/v/t51.82787-19/539424471_18522361312044965_6369400327479190253_n.jpg?stp=dst-jpg_s100x100_tt6&_nc_cat=1&ccb=7-5&_nc_sid=bf7eb4&efg=eyJ2ZW5jb2RlX3RhZyI6InByb2ZpbGVfcGljLnd3dy4xMDgwLkMzIn0%3D&_nc_ohc=ejqwNAl_w2kQ7kNvwF1pR2_&_nc_oc=AdkvRg-SGFE8LHRH1WY2-9QZ5CMoNxadMu1bupS9gkggjDwFwlRT8PuFmI1vf2lPsQ0&_nc_zt=24&_nc_ht=scontent-iad3-1.cdninstagram.com&_nc_gid=ymeasvRQXjR9VJANYzqQNQ&oh=00_AfW10ZNEe8YWCxeI4_1-xzcBsYw12fhQF9l2Ya9nTQMmOA&oe=68B6818B', 'theme-color': '#FFFFFF', 'og:type': 'profile', 'al:ios:app_name': 'Instagram', 'og:title': 'Ilona Maher (@ilonamaher) • Instagram photos and videos', 'application-title': 'Instagram', 'al:android:package': 'com.instagram.android', 'bingbot': 'noarchive', 'al:ios:url': 'instagram://user?username=ilonamaher', 'color-scheme': 'light', 'og:description': '5M Followers, 2,795 Following, 2,692 Posts - See Instagram photos and videos from Ilona Maher (@ilonamaher)', 'al:ios:app_store_id': '389801252', 'al:android:url': 'https://instagram.com/_u/ilonamaher/', 'apple-mobile-web-app-status-bar-style': 'default', 'viewport': 'width=device-width, initial-scale=1, minimum-scale=1, maximum-scale=1, viewport-fit=cover', 'mobile-web-app-capable': 'yes', 'og:url': 'https://www.instagram.com/ilonamaher/', 'al:android:app_name': 'Instagram'}], 'cse_image': [{'src': 'https://lookaside.instagram.com/seo/google_widget/crawler/?media_id=3444719645331131897'}]}}, {'kind': 'customsearch#result', 'title': '^_^ (@madeintyo) • Instagram photos and videos', 'htmlTitle': '^_^ (@madeintyo) • <b>Instagram</b> photos and videos', 'link': 'https://www.instagram.com/madeintyo/?hl=en', 'displayLink': 'www.instagram.com', 'snippet': 'Open app. 362 posts. 874,241 followers. 7,503 following. madeintyo. ^_^. madeintyo. 1/2 of @24hrsntokyo / for beats @tokyodrums. unitedmasters.com/m/hell-\\xa0...', 'htmlSnippet': 'Open app. 362 posts. 874,241 <b>followers</b>. 7,503 following. madeintyo. ^_^. madeintyo. 1/2 of @24hrsntokyo / for beats @<b>tokyodrums</b>. unitedmasters.com/m/hell-&nbsp;...', 'formattedUrl': 'https://www.instagram.com/madeintyo/?hl=en', 'htmlFormattedUrl': 'https://www.<b>instagram.com</b>/madeintyo/?hl=en', 'pagemap': {'cse_thumbnail': [{'src': 'https://encrypted-tbn0.gstatic.com/images?q=tbn:ANd9GcS-5mhsrnHKvjCr9D8wndqVgg0Wsyy7JyHw9z5ogZiLjydnSS2Id7yzCF0&s', 'width': '194', 'height': '259'}], 'metatags': [{'og:image': 'https://scontent-iad3-2.cdninstagram.com/v/t51.75761-19/500325168_18510610054029870_6706065082571167757_n.jpg?stp=dst-jpg_s100x100_tt6&_nc_cat=105&ccb=7-5&_nc_sid=bf7eb4&efg=eyJ2ZW5jb2RlX3RhZyI6InByb2ZpbGVfcGljLnd3dy4xMDgwLkMzIn0%3D&_nc_ohc=-UrHlvFLTnIQ7kNvwG6OueL&_nc_oc=AdmBVlsYHEff5jU6xsWYP7eRaK31d3tRQI-PRfhj4jOeZxIe_S8KBI6UhIp_PwM1gmk&_nc_zt=24&_nc_ht=scontent-iad3-2.cdninstagram.com&_nc_gid=2tbkM3YO2dgmTQjfmMOH-Q&oh=00_AfVubfjRwCz5PNAVAp8Jm4l_oQUJsIOZEWuslY-vUPE60w&oe=68B62A68', 'theme-color': '#FFFFFF', 'og:type': 'profile', 'al:ios:app_name': 'Instagram', 'og:title': '^_^ (@madeintyo) • Instagram photos and videos', 'application-title': 'Instagram', 'al:android:package': 'com.instagram.android', 'bingbot': 'noarchive', 'al:ios:url': 'instagram://user?username=madeintyo', 'color-scheme': 'light', 'og:description': '874K Followers, 7,616 Following, 362 Posts - See Instagram photos and videos from ^_^ (@madeintyo)', 'al:ios:app_store_id': '389801252', 'al:android:url': 'https://instagram.com/_u/madeintyo/', 'apple-mobile-web-app-status-bar-style': 'default', 'viewport': 'width=device-width, initial-scale=1, minimum-scale=1, maximum-scale=1, viewport-fit=cover', 'mobile-web-app-capable': 'yes', 'og:url': 'https://www.instagram.com/madeintyo/', 'al:android:app_name': 'Instagram'}], 'cse_image': [{'src': 'https://lookaside.instagram.com/seo/google_widget/crawler/?media_id=3704058970541384915'}]}}, {'kind': 'customsearch#result', 'title': 'Bill Gates (@thisisbillgates) • Instagram photos and videos', 'htmlTitle': 'Bill Gates (@thisisbillgates) • <b>Instagram</b> photos and videos', 'link': 'https://www.instagram.com/thisisbillgates/?hl=en', 'displayLink': 'www.instagram.com', 'snippet': \"12M followers · 239 following · 557 posts · @thisisbillgates: “Sharing things I'm learning through my foundation work and other interests.”\", 'htmlSnippet': '12M <b>followers</b> · 239 following · 557 posts · @thisisbillgates: “Sharing things I&#39;m learning through my foundation work and other interests.”', 'formattedUrl': 'https://www.instagram.com/thisisbillgates/?hl=en', 'htmlFormattedUrl': 'https://www.<b>instagram.com</b>/thisisbillgates/?hl=en', 'pagemap': {'cse_thumbnail': [{'src': 'https://encrypted-tbn0.gstatic.com/images?q=tbn:ANd9GcR33cik3GtzBaDnuzkrAqgIMWNXl1NU0wQjWRj-_z37JdpAbXFzU6j3eq74&s', 'width': '168', 'height': '299'}], 'xfn': [{}], 'metatags': [{'og:image': 'https://scontent-iad3-1.cdninstagram.com/v/t51.2885-19/473716533_1775393106650451_1071002921276479463_n.jpg?stp=dst-jpg_s100x100_tt6&_nc_cat=1&ccb=7-5&_nc_sid=bf7eb4&efg=eyJ2ZW5jb2RlX3RhZyI6InByb2ZpbGVfcGljLnd3dy4xMDgwLkMzIn0%3D&_nc_ohc=CbLGVRvsGs8Q7kNvwHouWk0&_nc_oc=Adn61WohJRpQhdhYGav8OFlP7RsljQaB03tFw53UpcfzD5szdeF4mv13isFn5XZjxA4&_nc_zt=24&_nc_ht=scontent-iad3-1.cdninstagram.com&oh=00_AfU0i-NLpnaqZLuPcuKX_sR8D5XzHdXqvg4PHdkoHxtkyg&oe=68B69002', 'theme-color': '#FFFFFF', 'og:type': 'profile', 'al:ios:app_name': 'Instagram', 'og:title': 'Bill Gates (@thisisbillgates) • Instagram photos and videos', 'application-title': 'Instagram', 'al:android:package': 'com.instagram.android', 'bingbot': 'noarchive', 'al:ios:url': 'instagram://user?username=thisisbillgates', 'color-scheme': 'light', 'og:description': '12M Followers, 239 Following, 557 Posts - See Instagram photos and videos from Bill Gates (@thisisbillgates)', 'al:ios:app_store_id': '389801252', 'al:android:url': 'https://instagram.com/_u/thisisbillgates/', 'apple-mobile-web-app-status-bar-style': 'default', 'viewport': 'width=device-width, initial-scale=1, minimum-scale=1, maximum-scale=1, viewport-fit=cover', 'mobile-web-app-capable': 'yes', 'og:url': 'https://www.instagram.com/thisisbillgates/', 'al:android:app_name': 'Instagram'}], 'cse_image': [{'src': 'https://lookaside.instagram.com/seo/google_widget/crawler/?media_id=3702966290923438727'}]}}]}\n"
     ]
    },
    {
     "data": {
      "text/plain": [
       "'\\ndef parse_data(data: dict[str, list[str]]) -> dict[str, list[str]]:\\n    items = gather_raw_data(QUERY).get(\"items\", [])\\n    rows = list()\\n\\n    for it in items:\\n        link = it.get(\"link\", \"\")\\n        if \"instagram.com\" not in link: continue\\n        uname = parse_ig_username(link)\\n        if not uname: continue\\n\\n        snippet = (it or {}).get(\"snippet\", \"\").strip()\\n        if\\n'"
      ]
     },
     "execution_count": 10,
     "metadata": {},
     "output_type": "execute_result"
    }
   ],
   "execution_count": 10
  },
  {
   "metadata": {},
   "cell_type": "code",
   "outputs": [],
   "execution_count": null,
   "source": "",
   "id": "3227e4c7503447e5"
  },
  {
   "metadata": {},
   "cell_type": "code",
   "outputs": [],
   "execution_count": null,
   "source": "print(\"Hello World!\")\n",
   "id": "fbc121e30a2defb3"
  }
 ],
 "metadata": {
  "kernelspec": {
   "display_name": "Python 3",
   "language": "python",
   "name": "python3"
  },
  "language_info": {
   "codemirror_mode": {
    "name": "ipython",
    "version": 2
   },
   "file_extension": ".py",
   "mimetype": "text/x-python",
   "name": "python",
   "nbconvert_exporter": "python",
   "pygments_lexer": "ipython2",
   "version": "2.7.6"
  }
 },
 "nbformat": 4,
 "nbformat_minor": 5
}

{
 "cells": [
  {
   "metadata": {},
   "cell_type": "markdown",
   "source": "### Test environment, Create a folder to store result",
   "id": "7991e0b846998375"
  },
  {
   "metadata": {
    "ExecuteTime": {
     "end_time": "2025-08-26T21:02:52.687233Z",
     "start_time": "2025-08-26T21:02:52.683009Z"
    }
   },
   "cell_type": "code",
   "source": [
    "import os, pathlib\n",
    "from dotenv import load_dotenv\n",
    "\n",
    "\n",
    "pathlib.Path(\"Out\").mkdir(exist_ok=True)\n",
    "print(\"Out/ ready.\")\n",
    "\n",
    "load_dotenv()\n",
    "print(\"Env loaded. API_KEY present? \", bool(os.getenv(\"API_KEY\")))\n",
    "print(\"Kernel OK.\")"
   ],
   "id": "72ae3f0dce2be70",
   "outputs": [
    {
     "name": "stdout",
     "output_type": "stream",
     "text": [
      "Out/ ready.\n",
      "Env loaded. API_KEY present?  True\n",
      "Kernel OK.\n"
     ]
    }
   ],
   "execution_count": 28
  },
  {
   "metadata": {},
   "cell_type": "markdown",
   "source": "### Test API Key and Search Engine ID",
   "id": "19e5f17c64a7a99b"
  },
  {
   "metadata": {
    "ExecuteTime": {
     "end_time": "2025-08-26T21:02:54.812622Z",
     "start_time": "2025-08-26T21:02:54.809372Z"
    }
   },
   "cell_type": "code",
   "source": [
    "API_KEY = os.getenv(\"API_KEY\")\n",
    "CX_ID = os.getenv(\"CX_ID\")\n",
    "assert API_KEY and CX_ID, \"Set API_KEY and CX_ID in your .env file\"\n",
    "print(\"OK, keys loaded.\")"
   ],
   "id": "bc9be4d460fbd877",
   "outputs": [
    {
     "name": "stdout",
     "output_type": "stream",
     "text": [
      "OK, keys loaded.\n"
     ]
    }
   ],
   "execution_count": 29
  },
  {
   "metadata": {},
   "cell_type": "markdown",
   "source": "### Setup Queries and Pages",
   "id": "576e866730399572"
  },
  {
   "metadata": {
    "ExecuteTime": {
     "end_time": "2025-08-26T20:56:42.164704Z",
     "start_time": "2025-08-26T20:56:42.162570Z"
    }
   },
   "cell_type": "code",
   "source": [
    "import json\n",
    "\n",
    "\n",
    "PAGES = os.getenv(\"PAGES\")\n",
    "FOLLOWER_MIN=os.getenv(\"FOLLOWER_MIN\")\n",
    "SITES = pathlib.Path(\"queries\") / \"sites.json\"\n",
    "CITIES = pathlib.Path(\"queries\") / \"cities.json\"\n",
    "VIEWS = pathlib.Path(\"queries\") / \"views.json\"\n",
    "PATTERNS = pathlib.Path(\"queries\") / \"patterns.json\"\n",
    "KEYWORDS = pathlib.Path(\"queries\") / \"keywords.json\"\n",
    "\n",
    "def create_queries():\n",
    "    '''modify this part to get different filter combos'''\n",
    "    with open(SITES) as sites_file:\n",
    "        sites = json.load(sites_file)\n",
    "    with open(CITIES) as cities_file:\n",
    "        cities = json.load(cities_file)\n",
    "    with open(KEYWORDS) as keywords_file:\n",
    "        keywords = json.load(keywords_file)\n",
    "\n",
    "    q = dict()\n",
    "    for site in sites:\n",
    "        q[site] = [f\"{site} {keyword} {city}\" for keyword in keywords[\"nail\"] for city in cities[\"top_major_cities\"]]\n",
    "\n",
    "    return q\n",
    "\n",
    "QUERY = create_queries()"
   ],
   "id": "bfa12c98b77c61e6",
   "outputs": [],
   "execution_count": 26
  },
  {
   "metadata": {
    "ExecuteTime": {
     "end_time": "2025-08-26T20:56:42.370896Z",
     "start_time": "2025-08-26T20:56:42.367333Z"
    }
   },
   "cell_type": "code",
   "source": [
    "import re\n",
    "from urllib.parse import urlparse\n",
    "\n",
    "\n",
    "def username_from_url(url: str):\n",
    "    \"\"\"\n",
    "    Accept only top-level profile URLs, ignore posts/reels/stories.\n",
    "    \"\"\"\n",
    "    p = urlparse(url)\n",
    "\n",
    "    parts = [seg for seg in p.path.split(\"/\") if seg]\n",
    "    if not parts:\n",
    "        return None\n",
    "    if parts[0].lower() in {\"p\", \"reel\", \"stories\", \"explore\", \"tv\", \"channels\", \"direct\"}:\n",
    "        return None\n",
    "    return parts[0] if re.fullmatch(r\"[A-Za-z0-9._]+\", parts[0]) else None\n",
    "\n",
    "\n",
    "# Handles: \"12,345 followers\", \"2.1k followers\", \"3m followers\"\n",
    "# and JP formats like \"フォロワー 1.2万\"\n",
    "FOLLOWER_PATTERNS = [\n",
    "    r\"([\\d.,]+)\\s*(k|m|b)?\\s+followers\",\n",
    "    r\"followers:\\s*([\\d.,]+)\\s*(k|m|b)?\",\n",
    "    r\"フォロワー\\s*([\\d.,]+)\\s*(万|千)?\",\n",
    "]\n",
    "\n",
    "def parse_followers(snippet: str):\n",
    "    text = (snippet or \"\").lower()\n",
    "    for pat in FOLLOWER_PATTERNS:\n",
    "        m = re.search(pat, text)\n",
    "        if not m:\n",
    "            continue\n",
    "        num = m.group(1).replace(\",\", \"\")\n",
    "        unit = (m.group(2) or \"\").lower()\n",
    "        try:\n",
    "            val = float(num)\n",
    "        except ValueError:\n",
    "            continue\n",
    "        mult = 1\n",
    "        if unit in {\"k\", \"千\"}: mult = 1_000\n",
    "        elif unit == \"m\":       mult = 1_000_000\n",
    "        elif unit == \"b\":       mult = 1_000_000_000\n",
    "        elif unit == \"万\":      mult = 10_000\n",
    "        return int(val * mult)\n",
    "    # Loose fallback like \"12k\" without the word \"followers\"\n",
    "    m2 = re.search(r\"\\b([\\d.,]+)\\s*(k|m|b)\\b\", text)\n",
    "    if m2:\n",
    "        val = float(m2.group(1).replace(\",\", \"\"))\n",
    "        mult = {\"k\":1_000,\"m\":1_000_000,\"b\":1_000_000_000}[m2.group(2)]\n",
    "        return int(val * mult)\n",
    "    return None"
   ],
   "id": "b10444673f559d17",
   "outputs": [],
   "execution_count": 27
  },
  {
   "metadata": {
    "ExecuteTime": {
     "end_time": "2025-08-26T20:42:11.766650Z",
     "start_time": "2025-08-26T20:42:09.536559Z"
    }
   },
   "cell_type": "code",
   "source": [
    "import requests\n",
    "\n",
    "\n",
    "def google_page(query: str, start: int = 1):\n",
    "    r = requests.get(\n",
    "        \"https://www.googleapis.com/customsearch/v1\",\n",
    "        params={\"key\": API_KEY, \"cx\": CX_ID, \"q\": query, \"start\": start},\n",
    "        timeout=30\n",
    "    )\n",
    "    r.raise_for_status()\n",
    "    return r.json()\n",
    "\n",
    "data = google_page(QUERY, start=1)\n",
    "len(data.get(\"items\", []) or [])"
   ],
   "id": "1131fceb31729fdd",
   "outputs": [
    {
     "data": {
      "text/plain": [
       "10"
      ]
     },
     "execution_count": 24,
     "metadata": {},
     "output_type": "execute_result"
    }
   ],
   "execution_count": 24
  },
  {
   "metadata": {
    "ExecuteTime": {
     "end_time": "2025-08-26T20:42:14.428070Z",
     "start_time": "2025-08-26T20:42:14.423114Z"
    }
   },
   "cell_type": "code",
   "source": [
    "items = data.get(\"items\", []) or []\n",
    "rows = []\n",
    "\n",
    "for it in items:\n",
    "    link = it.get(\"link\", \"\")\n",
    "    if \"instagram.com\" not in link:\n",
    "        continue\n",
    "    uname = username_from_url(link)\n",
    "    if not uname:\n",
    "        continue\n",
    "\n",
    "    snippet = (it.get(\"snippet\") or \"\").strip()\n",
    "    followers = parse_followers(snippet)\n",
    "\n",
    "    rows.append({\n",
    "        \"username\": uname,\n",
    "        \"followers\": followers,\n",
    "        \"bio\": snippet,\n",
    "        \"profile_url\": f\"https://www.instagram.com/{uname}/\"\n",
    "    })\n",
    "\n",
    "rows[:]"
   ],
   "id": "e71e30e8ce5a9dd8",
   "outputs": [
    {
     "name": "stdout",
     "output_type": "stream",
     "text": [
      "test p from urlparse: ('https', 'www.instagram.com', '/nail.sucre/', '', '', '')\n",
      "test p from urlparse: ('https', 'www.instagram.com', '/hanna_nailwizard/', '', '', '')\n",
      "test p from urlparse: ('https', 'www.instagram.com', '/reina.tokyonailart/', '', '', '')\n",
      "test p from urlparse: ('https', 'www.instagram.com', '/chirin._chan/', '', '', '')\n",
      "test p from urlparse: ('https', 'www.instagram.com', '/topcoat.tokyo/', '', '', '')\n",
      "test p from urlparse: ('https', 'www.instagram.com', '/japanesenails_tokyo/', '', '', '')\n",
      "test p from urlparse: ('https', 'www.instagram.com', '/tokyonails.chicago/', '', '', '')\n",
      "test p from urlparse: ('https', 'www.instagram.com', '/p/DFHCobhzHso/', '', '', '')\n",
      "test p from urlparse: ('https', 'www.instagram.com', '/p/B9inKeen0bp/', '', '', '')\n",
      "test p from urlparse: ('https', 'www.instagram.com', '/lacielo.jp/', '', '', '')\n"
     ]
    },
    {
     "data": {
      "text/plain": [
       "[{'username': 'nail.sucre',\n",
       "  'followers': 94000,\n",
       "  'bio': '94K followers · 22 following · 10012 posts · @nail.sucre: “新宿区新宿3丁目3-9新宿伍名館204 TOKYO.SHINJUKU @nail.sucreamer @sucre.newyork sister store No\\xa0...',\n",
       "  'profile_url': 'https://www.instagram.com/nail.sucre/'},\n",
       " {'username': 'hanna_nailwizard',\n",
       "  'followers': None,\n",
       "  'bio': 'ACCEPTING AUG/SEP BOOKING LA BASED Currently in TOKYO Setagaya English/Jpnse speaking NailTech DM for appointment #englishspeakingnailsalon. Follow.',\n",
       "  'profile_url': 'https://www.instagram.com/hanna_nailwizard/'},\n",
       " {'username': 'reina.tokyonailart',\n",
       "  'followers': None,\n",
       "  'bio': \"Japanese nail tech ߉ #SomervilleNJ. Life's too short for boring nails.✶ Nail reservation,collab ▶︎DM me Founder of @hitomebore.tokyo · reinatokyonailart.\",\n",
       "  'profile_url': 'https://www.instagram.com/reina.tokyonailart/'},\n",
       " {'username': 'chirin._chan',\n",
       "  'followers': None,\n",
       "  'bio': \"I'm Chirin, a nail artist at Hakusan Station, I'm happy to create beautiful, customized nail art for everyone. Let us bring your vision to life.\",\n",
       "  'profile_url': 'https://www.instagram.com/chirin._chan/'},\n",
       " {'username': 'topcoat.tokyo',\n",
       "  'followers': 13000,\n",
       "  'bio': '13K followers · 248 following · 1780 posts · @topcoat.tokyo: “English friendly nail salon in Tokyo ☺︎日本語 & English☺︎ 2 locations (➀Minato,Tokyo\\xa0...',\n",
       "  'profile_url': 'https://www.instagram.com/topcoat.tokyo/'},\n",
       " {'username': 'japanesenails_tokyo',\n",
       "  'followers': 13000,\n",
       "  'bio': '13K followers · 392 following · 1103 posts · @japanesenails_tokyo: “日本語 & English \\u200d♀️ Tokyo, 151-0051 Tokyo, Shibuya, Sendagaya 5-6-8,2nd floor 🗓️↓Book\\xa0...',\n",
       "  'profile_url': 'https://www.instagram.com/japanesenails_tokyo/'},\n",
       " {'username': 'tokyonails.chicago',\n",
       "  'followers': None,\n",
       "  'bio': 'Editorial & Design Salon. Specializing in Japanese Gel/GelX Hand Painted Art. By Appointment Only. Acrylic #japanesegel. 215 N Aberdeen Chicago IL.',\n",
       "  'profile_url': 'https://www.instagram.com/tokyonails.chicago/'},\n",
       " {'username': 'lacielo.jp',\n",
       "  'followers': 8500,\n",
       "  'bio': '8.5K+ followers · 61 following · 320 posts · @lacielo.jp: “ Japanese International Nail salon Harajuku/Tokyo. DM for bookings ⏰10:00-20:00 \\u200d♀️#ネイリスト\\xa0...',\n",
       "  'profile_url': 'https://www.instagram.com/lacielo.jp/'}]"
      ]
     },
     "execution_count": 25,
     "metadata": {},
     "output_type": "execute_result"
    }
   ],
   "execution_count": 25
  },
  {
   "metadata": {},
   "cell_type": "code",
   "outputs": [],
   "execution_count": null,
   "source": "",
   "id": "3227e4c7503447e5"
  },
  {
   "metadata": {},
   "cell_type": "code",
   "outputs": [],
   "execution_count": null,
   "source": "print(\"Hello World!\")\n",
   "id": "fbc121e30a2defb3"
  }
 ],
 "metadata": {
  "kernelspec": {
   "display_name": "Python 3",
   "language": "python",
   "name": "python3"
  },
  "language_info": {
   "codemirror_mode": {
    "name": "ipython",
    "version": 2
   },
   "file_extension": ".py",
   "mimetype": "text/x-python",
   "name": "python",
   "nbconvert_exporter": "python",
   "pygments_lexer": "ipython2",
   "version": "2.7.6"
  }
 },
 "nbformat": 4,
 "nbformat_minor": 5
}

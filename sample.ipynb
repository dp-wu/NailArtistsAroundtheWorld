{
 "cells": [
  {
   "metadata": {
    "ExecuteTime": {
     "end_time": "2025-08-26T05:03:52.753919Z",
     "start_time": "2025-08-26T05:03:52.749086Z"
    }
   },
   "cell_type": "code",
   "source": [
    "import os\n",
    "from dotenv import load_dotenv\n",
    "\n",
    "\n",
    "load_dotenv()\n",
    "print(\"Env loaded. GOOGLE_API_KEY present? \", bool(os.getenv(\"GOOGLE_API_KEY\")))\n",
    "print(\"Kernel OK.\")"
   ],
   "id": "abf57a51d70c905d",
   "outputs": [
    {
     "name": "stdout",
     "output_type": "stream",
     "text": [
      "Env loaded. GOOGLE_API_KEY present?  True\n",
      "Kernel OK.\n"
     ]
    }
   ],
   "execution_count": 1
  },
  {
   "metadata": {
    "ExecuteTime": {
     "end_time": "2025-08-26T05:05:38.664726Z",
     "start_time": "2025-08-26T05:05:38.661525Z"
    }
   },
   "cell_type": "code",
   "source": [
    "import os, pathlib\n",
    "\n",
    "\n",
    "pathlib.Path(\"Out\").mkdir(exist_ok=True)\n",
    "print(\"Out/ ready.\")"
   ],
   "id": "211ae09fe10e2b29",
   "outputs": [
    {
     "name": "stdout",
     "output_type": "stream",
     "text": [
      "Out/ ready.\n"
     ]
    }
   ],
   "execution_count": 3
  },
  {
   "metadata": {},
   "cell_type": "code",
   "outputs": [],
   "execution_count": null,
   "source": "",
   "id": "62856e581411b644"
  },
  {
   "metadata": {},
   "cell_type": "code",
   "outputs": [],
   "execution_count": null,
   "source": "print(\"Hello World!\")\n",
   "id": "fbc121e30a2defb3"
  }
 ],
 "metadata": {
  "kernelspec": {
   "display_name": "Python 3",
   "language": "python",
   "name": "python3"
  },
  "language_info": {
   "codemirror_mode": {
    "name": "ipython",
    "version": 2
   },
   "file_extension": ".py",
   "mimetype": "text/x-python",
   "name": "python",
   "nbconvert_exporter": "python",
   "pygments_lexer": "ipython2",
   "version": "2.7.6"
  }
 },
 "nbformat": 4,
 "nbformat_minor": 5
}
